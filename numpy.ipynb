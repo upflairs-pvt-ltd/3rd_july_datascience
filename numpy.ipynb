{
 "cells": [
  {
   "cell_type": "code",
   "execution_count": 1,
   "id": "0e1751e2-962b-44c8-afae-4379050d11aa",
   "metadata": {},
   "outputs": [],
   "source": [
    "import numpy as np"
   ]
  },
  {
   "cell_type": "code",
   "execution_count": 3,
   "id": "2b29f41a-081b-409d-8398-16c9e6c69403",
   "metadata": {},
   "outputs": [
    {
     "data": {
      "text/plain": [
       "array([25, 41, 63, 66, 85, 74])"
      ]
     },
     "execution_count": 3,
     "metadata": {},
     "output_type": "execute_result"
    }
   ],
   "source": [
    "## creation of array 1D \n",
    "arr = np.array([25,41,63,66,85,74])\n",
    "arr "
   ]
  },
  {
   "cell_type": "code",
   "execution_count": null,
   "id": "7360045e-2675-4af2-bc5f-551f71e9b068",
   "metadata": {},
   "outputs": [],
   "source": [
    "\n"
   ]
  },
  {
   "cell_type": "code",
   "execution_count": 4,
   "id": "6499f557-e2b4-4d10-8ab8-e731cfcc4480",
   "metadata": {},
   "outputs": [
    {
     "data": {
      "text/plain": [
       "numpy.ndarray"
      ]
     },
     "execution_count": 4,
     "metadata": {},
     "output_type": "execute_result"
    }
   ],
   "source": [
    "type(arr)\n",
    "# ndarray  ==> n diminensional array "
   ]
  },
  {
   "cell_type": "code",
   "execution_count": 5,
   "id": "20e2c57d-248a-4b7d-8d22-22b948a68ec1",
   "metadata": {},
   "outputs": [
    {
     "data": {
      "text/plain": [
       "6"
      ]
     },
     "execution_count": 5,
     "metadata": {},
     "output_type": "execute_result"
    }
   ],
   "source": [
    "arr.size  # no. of  item "
   ]
  },
  {
   "cell_type": "code",
   "execution_count": 6,
   "id": "f59b8462-cb1e-415f-9cd8-4b6abecae561",
   "metadata": {},
   "outputs": [
    {
     "data": {
      "text/plain": [
       "6"
      ]
     },
     "execution_count": 6,
     "metadata": {},
     "output_type": "execute_result"
    }
   ],
   "source": [
    "len(arr)"
   ]
  },
  {
   "cell_type": "code",
   "execution_count": 7,
   "id": "d82ce3fa-7bc9-4829-8b68-b3552f3e849f",
   "metadata": {},
   "outputs": [
    {
     "data": {
      "text/plain": [
       "1"
      ]
     },
     "execution_count": 7,
     "metadata": {},
     "output_type": "execute_result"
    }
   ],
   "source": [
    "arr.ndim   # to check the dimension of array "
   ]
  },
  {
   "cell_type": "code",
   "execution_count": 23,
   "id": "a68b8b0c-0e07-4238-878e-fbb7c506dc29",
   "metadata": {},
   "outputs": [
    {
     "data": {
      "text/plain": [
       "array(['25', '41', '63', '66', '85', '74', '25.01', 'upflairs', 'True'],\n",
       "      dtype='<U32')"
      ]
     },
     "execution_count": 23,
     "metadata": {},
     "output_type": "execute_result"
    }
   ],
   "source": [
    "arr = np.array([25,41,63,66,85,74,25.01,'upflairs',True])\n",
    "arr \n",
    "## similar type store  \n",
    "## array similar item "
   ]
  },
  {
   "cell_type": "code",
   "execution_count": 21,
   "id": "e11d3220-d32b-433d-9e42-2fff528f9256",
   "metadata": {},
   "outputs": [
    {
     "data": {
      "text/plain": [
       "dtype('float64')"
      ]
     },
     "execution_count": 21,
     "metadata": {},
     "output_type": "execute_result"
    }
   ],
   "source": [
    "arr.dtype"
   ]
  },
  {
   "cell_type": "code",
   "execution_count": 17,
   "id": "825fe1d8-2277-40b0-bb4d-b24df30cae80",
   "metadata": {},
   "outputs": [
    {
     "name": "stdout",
     "output_type": "stream",
     "text": [
      "1.26.0\n"
     ]
    }
   ],
   "source": [
    "print(np.__version__)"
   ]
  },
  {
   "cell_type": "code",
   "execution_count": 37,
   "id": "ce4ebc91-402a-4295-93b7-71f8386d6089",
   "metadata": {},
   "outputs": [
    {
     "data": {
      "text/plain": [
       "array([25, 41, 63, 66, 85, 74])"
      ]
     },
     "execution_count": 37,
     "metadata": {},
     "output_type": "execute_result"
    }
   ],
   "source": [
    "ls = [25,41,63,66,85,74]\n",
    "arr = np.array(ls)\n",
    "arr "
   ]
  },
  {
   "cell_type": "code",
   "execution_count": 25,
   "id": "e97b6e73-2a1e-4be2-a6e8-c5bfe54e1f83",
   "metadata": {},
   "outputs": [
    {
     "data": {
      "text/plain": [
       "74"
      ]
     },
     "execution_count": 25,
     "metadata": {},
     "output_type": "execute_result"
    }
   ],
   "source": [
    "arr[-1]"
   ]
  },
  {
   "cell_type": "code",
   "execution_count": 29,
   "id": "55be573a-82ef-441a-b49c-a7d18244bb0f",
   "metadata": {},
   "outputs": [
    {
     "data": {
      "text/plain": [
       "array([25, 41, 63, 66, 85, 74])"
      ]
     },
     "execution_count": 29,
     "metadata": {},
     "output_type": "execute_result"
    }
   ],
   "source": [
    "arr[::] # start = 0  , stoping  = end , jump == 1 "
   ]
  },
  {
   "cell_type": "code",
   "execution_count": 32,
   "id": "95c621a1-2726-4314-97c4-fefd54ef29ba",
   "metadata": {},
   "outputs": [],
   "source": [
    "arr[-1] = 500"
   ]
  },
  {
   "cell_type": "code",
   "execution_count": 33,
   "id": "2e324041-0ef5-46cb-af36-7676a57fc2e5",
   "metadata": {},
   "outputs": [
    {
     "data": {
      "text/plain": [
       "array([ 25,  41,  63,  66,  85, 500])"
      ]
     },
     "execution_count": 33,
     "metadata": {},
     "output_type": "execute_result"
    }
   ],
   "source": [
    "arr"
   ]
  },
  {
   "cell_type": "code",
   "execution_count": 35,
   "id": "f16033cc-c3d4-411b-9412-e84d4cc27f82",
   "metadata": {},
   "outputs": [
    {
     "data": {
      "text/plain": [
       "array([ 27,  43,  65,  68,  87, 502])"
      ]
     },
     "execution_count": 35,
     "metadata": {},
     "output_type": "execute_result"
    }
   ],
   "source": [
    "arr + 2"
   ]
  },
  {
   "cell_type": "code",
   "execution_count": 36,
   "id": "f3574733-c822-43f8-80bf-a5ec0e11ee24",
   "metadata": {},
   "outputs": [
    {
     "data": {
      "text/plain": [
       "array([  50,   82,  126,  132,  170, 1000])"
      ]
     },
     "execution_count": 36,
     "metadata": {},
     "output_type": "execute_result"
    }
   ],
   "source": [
    "arr * 2\n"
   ]
  },
  {
   "cell_type": "markdown",
   "id": "25bfedd2-d90c-427c-a052-727192057bb3",
   "metadata": {},
   "source": [
    "### 2D arrays  "
   ]
  },
  {
   "cell_type": "code",
   "execution_count": 3,
   "id": "264449d1-5ad7-4310-aceb-7853c37d1b15",
   "metadata": {},
   "outputs": [
    {
     "data": {
      "text/plain": [
       "[[1, 2, 3], [4, 5, 6], [7, 8, 9]]"
      ]
     },
     "execution_count": 3,
     "metadata": {},
     "output_type": "execute_result"
    }
   ],
   "source": [
    "ls = [[1,2,3],\n",
    "     [4,5,6],\n",
    "     [7,8,9]]\n",
    "\n",
    "ls "
   ]
  },
  {
   "cell_type": "code",
   "execution_count": 39,
   "id": "c770fcbb-6ca3-4400-8fac-d2e0741bf01f",
   "metadata": {},
   "outputs": [
    {
     "data": {
      "text/plain": [
       "list"
      ]
     },
     "execution_count": 39,
     "metadata": {},
     "output_type": "execute_result"
    }
   ],
   "source": [
    "type(ls)"
   ]
  },
  {
   "cell_type": "code",
   "execution_count": 43,
   "id": "0bc93f81-71c0-402e-aef1-eb02af027646",
   "metadata": {},
   "outputs": [
    {
     "data": {
      "text/plain": [
       "[7, 8, 9]"
      ]
     },
     "execution_count": 43,
     "metadata": {},
     "output_type": "execute_result"
    }
   ],
   "source": [
    "ls[-1]"
   ]
  },
  {
   "cell_type": "code",
   "execution_count": 4,
   "id": "3241aaf1-8f90-4675-a415-dd0d40e50a20",
   "metadata": {},
   "outputs": [
    {
     "data": {
      "text/plain": [
       "array([[1, 2, 3],\n",
       "       [4, 5, 6],\n",
       "       [7, 8, 9]])"
      ]
     },
     "execution_count": 4,
     "metadata": {},
     "output_type": "execute_result"
    }
   ],
   "source": [
    "arr2 = np.array(ls)\n",
    "arr2 "
   ]
  },
  {
   "cell_type": "code",
   "execution_count": 6,
   "id": "51d1291e-0008-4a93-9df5-29143055d6ea",
   "metadata": {},
   "outputs": [],
   "source": [
    "# 9  = 90  \n",
    "arr2[-1,-1] = 90 "
   ]
  },
  {
   "cell_type": "code",
   "execution_count": 7,
   "id": "39a9e035-e39e-42ee-baa4-5baed16526ba",
   "metadata": {},
   "outputs": [
    {
     "data": {
      "text/plain": [
       "array([[ 1,  2,  3],\n",
       "       [ 4,  5,  6],\n",
       "       [ 7,  8, 90]])"
      ]
     },
     "execution_count": 7,
     "metadata": {},
     "output_type": "execute_result"
    }
   ],
   "source": [
    "arr2 "
   ]
  },
  {
   "cell_type": "code",
   "execution_count": 8,
   "id": "99a76339-71db-4251-adcc-583757764720",
   "metadata": {},
   "outputs": [
    {
     "data": {
      "text/plain": [
       "array([ 48, 196, 145,  98,  11,  36,  78,  10,  76,  66, 191,  50,  58,\n",
       "       176, 179,  10, 158, 146, 155,  35, 173,  59,  56,  41,  68,  13,\n",
       "        87, 159, 143,  25,  59,  51, 100,   4,  71,  87, 114, 128, 136,\n",
       "        33, 119, 114,  37,  52,  43,  15,  64, 193,  15, 141,  45,  24,\n",
       "       172,  26,   5,   9,  71, 174,  40, 178,   1,  21,  24, 147, 117,\n",
       "        15,  69,  88,   1, 138, 117, 107, 158,  91,   5, 101,   8, 115,\n",
       "       128,   8, 197,  42,  75, 188,  11,  50, 178,  49, 112,  75, 142,\n",
       "       151, 108, 164,  81, 141, 132, 117, 151, 161, 132, 141, 141,  31,\n",
       "       164, 117,  79,  88,  38, 147, 197,  73, 175,  60,  22, 135,   5,\n",
       "        40,  43,  24,   1, 149, 121, 178,  61,  30, 158,  25, 112, 124,\n",
       "        11,  87, 197, 133, 177, 107, 195,  73,  71, 136,  24, 107,  91,\n",
       "        38, 119, 179,  76,  74, 192,  73,  85, 100, 141, 173,  38,   3,\n",
       "       186,  67, 128, 134, 101,  89, 131, 114,  39,   4, 102, 115, 135,\n",
       "       183,  14, 169,  67, 175,  97,   4,  51,  20,  96, 101, 129,   8,\n",
       "       144,  15,  98, 142,  83, 100, 180,  14, 151, 177,  96, 112, 152,\n",
       "        58,  92,  53,  93,  82,  64, 173,  14,  66,  21, 174,  87,  91,\n",
       "        14,  66,  55,  93,  79,  22,  80, 112,  63, 151,  82, 195,  78,\n",
       "       122,  44,  57,  97,  60,  48,  91,  61,  61,   4, 152,  83,  20,\n",
       "        12, 192,  38, 158,  60, 162, 151,  95, 107,   9,  79,  21, 121,\n",
       "        30,  93, 132, 114, 106,  76,  71, 139, 110, 171, 183, 150, 181,\n",
       "        56, 164,  34,  46,   9,  66, 174, 151,  12, 189,  32,  43,  76,\n",
       "       169,  60, 135, 184, 164,  85, 193, 163, 153,  63,   9, 145,  36,\n",
       "        72,  15, 128,   3, 172,   7,  68, 153, 152,  16, 120,  65,  69,\n",
       "       138, 102,  27,  18,  78,  92, 173,  37,  14,  49,  24, 168, 128,\n",
       "        19,  91, 132, 111, 185, 136, 189,  94,  55, 178,  17,  64,  84,\n",
       "       187, 148, 184, 180, 170, 118, 144,  80,  77, 192,  67,  47, 123,\n",
       "       128,  21,  81, 176,  30,  77, 135, 153,  18, 105,  29,  15, 131,\n",
       "       145, 101,  22,  99,  26,  99, 115, 105, 179,  52,  55,  89,  84,\n",
       "       190, 109,  42,   2,  24, 158,  50, 156,  39, 157, 159, 133,  80,\n",
       "        84,  11,  21,  70,  28,   2, 111, 148,  41,  40, 113,  75, 188,\n",
       "       156, 148,  79,  24, 167,   1,   9,  40, 121, 102,  60,  55,  96,\n",
       "       161,  94,  72, 124,   2,  52,  89,  43,  70,  70, 157, 135, 142,\n",
       "       136, 146,  91, 120,  88,  81,  97, 176, 174, 126, 139, 166,  23,\n",
       "       122, 102,   2,  88,  59, 111,  11,  19, 151, 135,  74, 171,  28,\n",
       "       112, 190,  17, 136,  16, 183, 150,   1,  33,  89,  45, 138, 115,\n",
       "       178, 198,   4,  48, 178, 135, 187, 177,  99,  79,  33, 111, 197,\n",
       "       119,  76, 164,  76,  37, 143, 165, 183,  21,  82, 167,  39, 156,\n",
       "       127, 154,  47,  58,  56, 110, 112, 148, 192, 167, 170, 128, 111,\n",
       "       124, 172,  73,  58, 172, 144])"
      ]
     },
     "execution_count": 8,
     "metadata": {},
     "output_type": "execute_result"
    }
   ],
   "source": [
    "arr = np.random.randint(1,200,500)\n",
    "arr # single dimension array \n",
    "# 1 bag of marbles 10 pick "
   ]
  },
  {
   "cell_type": "code",
   "execution_count": 11,
   "id": "3ee1d279-3c83-4c12-85fe-92c5abc90272",
   "metadata": {},
   "outputs": [
    {
     "data": {
      "text/plain": [
       "array([ 48,  98,  11,  36,  78,  10,  76,  66,  50,  58,  10,  35,  59,\n",
       "        56,  41,  68,  13,  87,  25,  59,  51, 100,   4,  71,  87,  33,\n",
       "        37,  52,  43,  15,  64,  15,  45,  24,  26,   5,   9,  71,  40,\n",
       "         1,  21,  24,  15,  69,  88,   1,  91,   5,   8,   8,  42,  75,\n",
       "        11,  50,  49,  75,  81,  31,  79,  88,  38,  73,  60,  22,   5,\n",
       "        40,  43,  24,   1,  61,  30,  25,  11,  87,  73,  71,  24,  91,\n",
       "        38,  76,  74,  73,  85, 100,  38,   3,  67,  89,  39,   4,  14,\n",
       "        67,  97,   4,  51,  20,  96,   8,  15,  98,  83, 100,  14,  96,\n",
       "        58,  92,  53,  93,  82,  64,  14,  66,  21,  87,  91,  14,  66,\n",
       "        55,  93,  79,  22,  80,  63,  82,  78,  44,  57,  97,  60,  48,\n",
       "        91,  61,  61,   4,  83,  20,  12,  38,  60,  95,   9,  79,  21,\n",
       "        30,  93,  76,  71,  56,  34,  46,   9,  66,  12,  32,  43,  76,\n",
       "        60,  85,  63,   9,  36,  72,  15,   3,   7,  68,  16,  65,  69,\n",
       "        27,  18,  78,  92,  37,  14,  49,  24,  19,  91,  94,  55,  17,\n",
       "        64,  84,  80,  77,  67,  47,  21,  81,  30,  77,  18,  29,  15,\n",
       "        22,  99,  26,  99,  52,  55,  89,  84,  42,   2,  24,  50,  39,\n",
       "        80,  84,  11,  21,  70,  28,   2,  41,  40,  75,  79,  24,   1,\n",
       "         9,  40,  60,  55,  96,  94,  72,   2,  52,  89,  43,  70,  70,\n",
       "        91,  88,  81,  97,  23,   2,  88,  59,  11,  19,  74,  28,  17,\n",
       "        16,   1,  33,  89,  45,   4,  48,  99,  79,  33,  76,  76,  37,\n",
       "        21,  82,  39,  47,  58,  56,  73,  58])"
      ]
     },
     "execution_count": 11,
     "metadata": {},
     "output_type": "execute_result"
    }
   ],
   "source": [
    "# arr  filter all thos item that are less than equal to 100  \n",
    "# comments ---> how many item in your arrays \n",
    "\n",
    "arr[arr <= 100]"
   ]
  },
  {
   "cell_type": "code",
   "execution_count": 12,
   "id": "8643e19c-6450-43ce-9740-76789cc3a810",
   "metadata": {},
   "outputs": [
    {
     "data": {
      "text/plain": [
       "268"
      ]
     },
     "execution_count": 12,
     "metadata": {},
     "output_type": "execute_result"
    }
   ],
   "source": [
    "arr[arr <= 100].size"
   ]
  },
  {
   "cell_type": "code",
   "execution_count": 13,
   "id": "adb4a0e5-e77e-42b5-9794-025cdbd2ef89",
   "metadata": {},
   "outputs": [
    {
     "data": {
      "text/plain": [
       "268"
      ]
     },
     "execution_count": 13,
     "metadata": {},
     "output_type": "execute_result"
    }
   ],
   "source": [
    "len(arr[arr <= 100])\n"
   ]
  },
  {
   "cell_type": "code",
   "execution_count": 14,
   "id": "78e47532-dd51-4f4d-ab6b-1d31fb558f63",
   "metadata": {},
   "outputs": [
    {
     "data": {
      "text/plain": [
       "(268,)"
      ]
     },
     "execution_count": 14,
     "metadata": {},
     "output_type": "execute_result"
    }
   ],
   "source": [
    "arr[arr <= 100].shape  \n"
   ]
  },
  {
   "cell_type": "code",
   "execution_count": 17,
   "id": "a2d0d0db-3932-4a0b-9c4e-d14e096db6b7",
   "metadata": {},
   "outputs": [
    {
     "data": {
      "text/plain": [
       "array([[ 97, 179,  80,  62,  39],\n",
       "       [102,  54, 122,  51,   5],\n",
       "       [ 21, 169, 139,  47,  52],\n",
       "       [ 97,  32,  32,  83, 173],\n",
       "       [ 89, 173, 174,  65, 141],\n",
       "       [171, 111, 167, 164,   5],\n",
       "       [146,  57,  21, 169, 174],\n",
       "       [115, 195,  23,  14, 136],\n",
       "       [ 68,  96, 145,  66, 150],\n",
       "       [139, 178, 163, 188, 140]])"
      ]
     },
     "execution_count": 17,
     "metadata": {},
     "output_type": "execute_result"
    }
   ],
   "source": [
    "arr2 = np.random.randint(1,200,(10,5))\n",
    "arr2 "
   ]
  },
  {
   "cell_type": "code",
   "execution_count": 23,
   "id": "260ffd79-aeaf-4721-93ce-7b4797eb9794",
   "metadata": {},
   "outputs": [
    {
     "data": {
      "text/plain": [
       "array([[123,  64, 128,  10, 137, 153],\n",
       "       [ 89,  76, 142, 150,  77,  26],\n",
       "       [111,  31,  55,  59, 109,  75],\n",
       "       [ 55,   5, 106, 141, 150, 126],\n",
       "       [127, 158,   7,  57,  71, 171],\n",
       "       [ 94, 122, 128, 144,  73,  63],\n",
       "       [ 13,  41,   7,  14,  61, 116],\n",
       "       [162,  22, 109, 144, 107,   3],\n",
       "       [141, 123, 117,  75, 163, 180],\n",
       "       [ 71, 174,  20,  26,  80, 141]])"
      ]
     },
     "execution_count": 23,
     "metadata": {},
     "output_type": "execute_result"
    }
   ],
   "source": [
    "arr2 = np.random.randint(1,200,(10,6))\n",
    "arr2 "
   ]
  },
  {
   "cell_type": "code",
   "execution_count": 24,
   "id": "669ab653-bf10-478b-8fd0-ffb0b7e50576",
   "metadata": {},
   "outputs": [
    {
     "data": {
      "text/plain": [
       "array([0., 0., 0., 0., 0., 0., 0., 0., 0., 0.])"
      ]
     },
     "execution_count": 24,
     "metadata": {},
     "output_type": "execute_result"
    }
   ],
   "source": [
    "arr = np.zeros(10)\n",
    "arr # 1D array "
   ]
  },
  {
   "cell_type": "code",
   "execution_count": 25,
   "id": "cac2ea66-7e22-41b7-9268-0e3fe87731ba",
   "metadata": {},
   "outputs": [
    {
     "data": {
      "text/plain": [
       "dtype('float64')"
      ]
     },
     "execution_count": 25,
     "metadata": {},
     "output_type": "execute_result"
    }
   ],
   "source": [
    "arr.dtype"
   ]
  },
  {
   "cell_type": "code",
   "execution_count": 27,
   "id": "3c5376d5-e72b-448e-a1c3-ebccd3de8583",
   "metadata": {},
   "outputs": [
    {
     "data": {
      "text/plain": [
       "array([[0., 0., 0., 0., 0.],\n",
       "       [0., 0., 0., 0., 0.],\n",
       "       [0., 0., 0., 0., 0.],\n",
       "       [0., 0., 0., 0., 0.],\n",
       "       [0., 0., 0., 0., 0.],\n",
       "       [0., 0., 0., 0., 0.],\n",
       "       [0., 0., 0., 0., 0.],\n",
       "       [0., 0., 0., 0., 0.],\n",
       "       [0., 0., 0., 0., 0.],\n",
       "       [0., 0., 0., 0., 0.]])"
      ]
     },
     "execution_count": 27,
     "metadata": {},
     "output_type": "execute_result"
    }
   ],
   "source": [
    "arr = np.zeros((10,5))  # 2D array \n",
    "arr "
   ]
  },
  {
   "cell_type": "code",
   "execution_count": 28,
   "id": "09a68e10-6a7f-4d1c-a8ad-5968c4b676b5",
   "metadata": {},
   "outputs": [
    {
     "data": {
      "text/plain": [
       "array([1., 1., 1., 1., 1., 1., 1., 1., 1., 1.])"
      ]
     },
     "execution_count": 28,
     "metadata": {},
     "output_type": "execute_result"
    }
   ],
   "source": [
    "arr = np.ones(10)\n",
    "arr "
   ]
  },
  {
   "cell_type": "code",
   "execution_count": 29,
   "id": "1e10c141-083d-4354-bd44-d5cf90cf0bf8",
   "metadata": {},
   "outputs": [
    {
     "data": {
      "text/plain": [
       "array([[1., 1., 1., 1., 1.],\n",
       "       [1., 1., 1., 1., 1.],\n",
       "       [1., 1., 1., 1., 1.],\n",
       "       [1., 1., 1., 1., 1.],\n",
       "       [1., 1., 1., 1., 1.],\n",
       "       [1., 1., 1., 1., 1.],\n",
       "       [1., 1., 1., 1., 1.],\n",
       "       [1., 1., 1., 1., 1.],\n",
       "       [1., 1., 1., 1., 1.],\n",
       "       [1., 1., 1., 1., 1.]])"
      ]
     },
     "execution_count": 29,
     "metadata": {},
     "output_type": "execute_result"
    }
   ],
   "source": [
    "arr = np.ones((10,5))\n",
    "arr "
   ]
  },
  {
   "cell_type": "code",
   "execution_count": 30,
   "id": "bd801e82-a752-433f-89b0-1ae734cb323e",
   "metadata": {},
   "outputs": [
    {
     "data": {
      "text/plain": [
       "[0, 1, 2, 3, 4, 5, 6, 7, 8, 9]"
      ]
     },
     "execution_count": 30,
     "metadata": {},
     "output_type": "execute_result"
    }
   ],
   "source": [
    "ls = [0,1,2,3,4,5,6,7,8,9]\n",
    "ls "
   ]
  },
  {
   "cell_type": "code",
   "execution_count": 33,
   "id": "d82755a2-68cf-40ac-9447-d5c4c31c45a7",
   "metadata": {},
   "outputs": [
    {
     "data": {
      "text/plain": [
       "[0, 1, 2, 3, 4, 5, 6, 7, 8, 9]"
      ]
     },
     "execution_count": 33,
     "metadata": {},
     "output_type": "execute_result"
    }
   ],
   "source": [
    "ls = list(range(10))\n",
    "ls "
   ]
  },
  {
   "cell_type": "code",
   "execution_count": 39,
   "id": "8f7f8ff1-017c-46eb-818a-313b5e34fb05",
   "metadata": {},
   "outputs": [
    {
     "data": {
      "text/plain": [
       "array([0, 1, 2, 3, 4, 5, 6, 7, 8, 9])"
      ]
     },
     "execution_count": 39,
     "metadata": {},
     "output_type": "execute_result"
    }
   ],
   "source": [
    "arr = np.arange(10)\n",
    "arr "
   ]
  },
  {
   "cell_type": "code",
   "execution_count": 40,
   "id": "cd03d03b-0ecf-4569-b037-e492d7a58b8e",
   "metadata": {},
   "outputs": [
    {
     "data": {
      "text/plain": [
       "array([ 0,  1,  2,  3,  4,  5,  6,  7,  8,  9, 10, 11, 12, 13, 14, 15, 16,\n",
       "       17, 18, 19, 20, 21, 22, 23, 24, 25, 26, 27, 28, 29, 30, 31, 32, 33,\n",
       "       34, 35, 36, 37, 38, 39, 40, 41, 42, 43, 44, 45, 46, 47, 48, 49, 50,\n",
       "       51, 52, 53, 54, 55, 56, 57, 58, 59])"
      ]
     },
     "execution_count": 40,
     "metadata": {},
     "output_type": "execute_result"
    }
   ],
   "source": [
    "arr = np.arange(60)\n",
    "arr  # single 1D "
   ]
  },
  {
   "cell_type": "code",
   "execution_count": 44,
   "id": "5bf2adfe-7f2c-469e-b19e-86096cc534d5",
   "metadata": {},
   "outputs": [
    {
     "data": {
      "text/plain": [
       "array([[ 0,  1,  2,  3,  4,  5,  6,  7,  8,  9],\n",
       "       [10, 11, 12, 13, 14, 15, 16, 17, 18, 19],\n",
       "       [20, 21, 22, 23, 24, 25, 26, 27, 28, 29],\n",
       "       [30, 31, 32, 33, 34, 35, 36, 37, 38, 39],\n",
       "       [40, 41, 42, 43, 44, 45, 46, 47, 48, 49],\n",
       "       [50, 51, 52, 53, 54, 55, 56, 57, 58, 59]])"
      ]
     },
     "execution_count": 44,
     "metadata": {},
     "output_type": "execute_result"
    }
   ],
   "source": [
    "# 2D , 60\n",
    "# 10,6\n",
    "arr.reshape(6,10)  # 10 *  6 == 60 "
   ]
  },
  {
   "cell_type": "code",
   "execution_count": 47,
   "id": "b4ce0ab2-fe22-46e5-9465-e671c7194beb",
   "metadata": {},
   "outputs": [
    {
     "data": {
      "text/plain": [
       "array([[ 0,  1,  2,  3,  4,  5,  6,  7,  8,  9, 10, 11, 12, 13, 14, 15,\n",
       "        16, 17, 18, 19],\n",
       "       [20, 21, 22, 23, 24, 25, 26, 27, 28, 29, 30, 31, 32, 33, 34, 35,\n",
       "        36, 37, 38, 39],\n",
       "       [40, 41, 42, 43, 44, 45, 46, 47, 48, 49, 50, 51, 52, 53, 54, 55,\n",
       "        56, 57, 58, 59]])"
      ]
     },
     "execution_count": 47,
     "metadata": {},
     "output_type": "execute_result"
    }
   ],
   "source": [
    "arr.reshape(3,20)"
   ]
  },
  {
   "cell_type": "code",
   "execution_count": 48,
   "id": "c0b8cc49-150f-4483-b488-b5bec729e624",
   "metadata": {},
   "outputs": [],
   "source": [
    "arr = arr.reshape(6,10)  # 10 *  6 == 60 "
   ]
  },
  {
   "cell_type": "code",
   "execution_count": 49,
   "id": "4ac3e4e7-6363-4089-a07f-844e16e408a3",
   "metadata": {},
   "outputs": [
    {
     "data": {
      "text/plain": [
       "array([[ 0,  1,  2,  3,  4,  5,  6,  7,  8,  9],\n",
       "       [10, 11, 12, 13, 14, 15, 16, 17, 18, 19],\n",
       "       [20, 21, 22, 23, 24, 25, 26, 27, 28, 29],\n",
       "       [30, 31, 32, 33, 34, 35, 36, 37, 38, 39],\n",
       "       [40, 41, 42, 43, 44, 45, 46, 47, 48, 49],\n",
       "       [50, 51, 52, 53, 54, 55, 56, 57, 58, 59]])"
      ]
     },
     "execution_count": 49,
     "metadata": {},
     "output_type": "execute_result"
    }
   ],
   "source": [
    "arr"
   ]
  },
  {
   "cell_type": "code",
   "execution_count": null,
   "id": "64d1811d-5e66-4e20-bda7-4b56b6dafd64",
   "metadata": {},
   "outputs": [],
   "source": [
    "# message = s.recvfrom(100)\n",
    "# sender_address = message[1]\n",
    "# reply_message = \"Thank you for sending message \"\n",
    "# encryptmessage  = ......... \n",
    "# s.sendto(encryptmessage,sender_address)\n"
   ]
  },
  {
   "cell_type": "code",
   "execution_count": 2,
   "id": "df890d61-d4e1-4ed6-a496-98413a42d599",
   "metadata": {},
   "outputs": [],
   "source": [
    "### creation of 3D array\n",
    "arr1D = [1,2,3]\n",
    "arr2D = [[1,2,3],[1,2,3],[1,2,3]]  # [1D,1D,1D]\n",
    "arr3D = [[[1,2,3],[1,2,3],[1,2,3]],[[1,2,3],[1,2,3],[1,2,3]]]     # [2D,2D,2D,2D]"
   ]
  },
  {
   "cell_type": "code",
   "execution_count": 3,
   "id": "60f553a7-5a43-4842-b330-8be920bc85a4",
   "metadata": {},
   "outputs": [
    {
     "data": {
      "text/plain": [
       "array([[[1, 2, 3],\n",
       "        [1, 2, 3],\n",
       "        [1, 2, 3]],\n",
       "\n",
       "       [[1, 2, 3],\n",
       "        [1, 2, 3],\n",
       "        [1, 2, 3]]])"
      ]
     },
     "execution_count": 3,
     "metadata": {},
     "output_type": "execute_result"
    }
   ],
   "source": [
    "arr = np.array(arr3D)\n",
    "arr "
   ]
  },
  {
   "cell_type": "code",
   "execution_count": 4,
   "id": "98f057d0-70e9-4d6c-8704-b389e162d105",
   "metadata": {},
   "outputs": [
    {
     "data": {
      "text/plain": [
       "3"
      ]
     },
     "execution_count": 4,
     "metadata": {},
     "output_type": "execute_result"
    }
   ],
   "source": [
    "arr.ndim"
   ]
  },
  {
   "cell_type": "code",
   "execution_count": 6,
   "id": "db36dbef-7631-4798-a97a-e72a67fb142c",
   "metadata": {},
   "outputs": [
    {
     "data": {
      "text/plain": [
       "array([[[ 86, 125,  70],\n",
       "        [ 69,  49,  59],\n",
       "        [ 72,  10,  36],\n",
       "        [171, 160,  56],\n",
       "        [ 50,  46,  78]],\n",
       "\n",
       "       [[ 70, 177,   6],\n",
       "        [ 83,  87,  83],\n",
       "        [117, 107,  94],\n",
       "        [146,  11,  47],\n",
       "        [ 63,  94,  73]],\n",
       "\n",
       "       [[187, 104, 190],\n",
       "        [ 55,  35, 187],\n",
       "        [105,  31, 148],\n",
       "        [ 21, 198, 164],\n",
       "        [106, 187,  23]]])"
      ]
     },
     "execution_count": 6,
     "metadata": {},
     "output_type": "execute_result"
    }
   ],
   "source": [
    "arr3 = np.random.randint(1,200,(3,5,3))\n",
    "arr3 \n",
    "# (10,5)  (row,column)"
   ]
  },
  {
   "cell_type": "code",
   "execution_count": 8,
   "id": "3e5b4b5f-bb3c-4d98-91c1-0f5612b6489c",
   "metadata": {},
   "outputs": [
    {
     "data": {
      "text/plain": [
       "(3, 5, 3)"
      ]
     },
     "execution_count": 8,
     "metadata": {},
     "output_type": "execute_result"
    }
   ],
   "source": [
    "arr3.shape \n",
    "#(table,  row , column)"
   ]
  },
  {
   "cell_type": "code",
   "execution_count": 10,
   "id": "3f674e5e-4b6e-4ccb-aded-6ce15bf547a5",
   "metadata": {},
   "outputs": [
    {
     "data": {
      "text/plain": [
       "3"
      ]
     },
     "execution_count": 10,
     "metadata": {},
     "output_type": "execute_result"
    }
   ],
   "source": [
    "arr3.ndim "
   ]
  },
  {
   "cell_type": "code",
   "execution_count": 13,
   "id": "b9764d1e-6624-4195-bee4-ead51fd2682f",
   "metadata": {},
   "outputs": [
    {
     "data": {
      "text/plain": [
       "array([[ 86, 125,  70],\n",
       "       [ 70, 177,   6],\n",
       "       [187, 104, 190]])"
      ]
     },
     "execution_count": 13,
     "metadata": {},
     "output_type": "execute_result"
    }
   ],
   "source": [
    "arr3[0:,0,:]   "
   ]
  },
  {
   "cell_type": "code",
   "execution_count": 15,
   "id": "84bc250c-2be3-4364-a5db-04a59b1e9bce",
   "metadata": {},
   "outputs": [
    {
     "data": {
      "text/plain": [
       "array([9, 7, 8])"
      ]
     },
     "execution_count": 15,
     "metadata": {},
     "output_type": "execute_result"
    }
   ],
   "source": [
    "arr = np.array([9,7,8])\n",
    "arr "
   ]
  },
  {
   "cell_type": "code",
   "execution_count": 20,
   "id": "0afb21c9-4a8a-4c26-b0d4-73a87a878e2f",
   "metadata": {},
   "outputs": [],
   "source": [
    "# max(arr)   # min(arr)"
   ]
  },
  {
   "cell_type": "code",
   "execution_count": 19,
   "id": "cf6e6034-5e1f-4cd9-975f-12587f9afe65",
   "metadata": {},
   "outputs": [
    {
     "data": {
      "text/plain": [
       "8.0"
      ]
     },
     "execution_count": 19,
     "metadata": {},
     "output_type": "execute_result"
    }
   ],
   "source": [
    "np.mean(arr)   # average "
   ]
  },
  {
   "cell_type": "code",
   "execution_count": 21,
   "id": "b0f859e8-1cb3-4115-a37d-238376ec22e5",
   "metadata": {},
   "outputs": [
    {
     "data": {
      "text/plain": [
       "24"
      ]
     },
     "execution_count": 21,
     "metadata": {},
     "output_type": "execute_result"
    }
   ],
   "source": [
    "np.sum(arr)"
   ]
  },
  {
   "cell_type": "code",
   "execution_count": 24,
   "id": "31a8aa62-0354-4675-a4db-d11720f183e9",
   "metadata": {},
   "outputs": [
    {
     "data": {
      "text/plain": [
       "1"
      ]
     },
     "execution_count": 24,
     "metadata": {},
     "output_type": "execute_result"
    }
   ],
   "source": [
    "np.argmin(arr)\n",
    "# argmin returns index of minimum item "
   ]
  },
  {
   "cell_type": "code",
   "execution_count": 25,
   "id": "304a1f62-7fc2-439d-a375-de907d3530b3",
   "metadata": {},
   "outputs": [
    {
     "data": {
      "text/plain": [
       "0"
      ]
     },
     "execution_count": 25,
     "metadata": {},
     "output_type": "execute_result"
    }
   ],
   "source": [
    "np.argmax(arr)"
   ]
  },
  {
   "cell_type": "code",
   "execution_count": 27,
   "id": "06428050-d0fc-423f-9f69-03d222888da7",
   "metadata": {},
   "outputs": [],
   "source": [
    "arr.sort()  # ascending order "
   ]
  },
  {
   "cell_type": "code",
   "execution_count": 30,
   "id": "dcf412ae-afed-46a4-a3c5-47cb7acdd5ac",
   "metadata": {},
   "outputs": [
    {
     "data": {
      "text/plain": [
       "array([7, 8, 9])"
      ]
     },
     "execution_count": 30,
     "metadata": {},
     "output_type": "execute_result"
    }
   ],
   "source": [
    "arr  # ascending order "
   ]
  },
  {
   "cell_type": "code",
   "execution_count": null,
   "id": "656de513-cd19-49e4-862d-94850e85c2f2",
   "metadata": {},
   "outputs": [],
   "source": [
    "arr[::-1]   # descending order \n",
    "\n"
   ]
  },
  {
   "cell_type": "code",
   "execution_count": null,
   "id": "b11b66ec-55a2-40e5-8174-1314fe79f0c6",
   "metadata": {},
   "outputs": [],
   "source": [
    "\n",
    "\n",
    "\n",
    "\n",
    "\n",
    "\n",
    "\n",
    "\n",
    "\n",
    "\n",
    "\n",
    "\n",
    "\n",
    "\n",
    "\n",
    "\n",
    "\n",
    "\n",
    "\n",
    "\n",
    "\n"
   ]
  },
  {
   "cell_type": "code",
   "execution_count": null,
   "id": "5a417ec5-ac42-4ce6-b025-299c4f339250",
   "metadata": {},
   "outputs": [],
   "source": []
  },
  {
   "cell_type": "code",
   "execution_count": null,
   "id": "a429ca29-1ec8-4141-a094-cb37dc52a9e6",
   "metadata": {},
   "outputs": [],
   "source": []
  }
 ],
 "metadata": {
  "kernelspec": {
   "display_name": "Python 3 (ipykernel)",
   "language": "python",
   "name": "python3"
  },
  "language_info": {
   "codemirror_mode": {
    "name": "ipython",
    "version": 3
   },
   "file_extension": ".py",
   "mimetype": "text/x-python",
   "name": "python",
   "nbconvert_exporter": "python",
   "pygments_lexer": "ipython3",
   "version": "3.11.5"
  }
 },
 "nbformat": 4,
 "nbformat_minor": 5
}
