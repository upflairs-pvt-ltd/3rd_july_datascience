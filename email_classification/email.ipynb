{
 "cells": [
  {
   "cell_type": "code",
   "execution_count": 1,
   "id": "9b484b45-1957-4e23-8c1a-fd2ea8365867",
   "metadata": {},
   "outputs": [],
   "source": [
    "import pandas as pd \n",
    "import numpy as np "
   ]
  },
  {
   "cell_type": "code",
   "execution_count": 6,
   "id": "2f999c9b-1bbb-4453-a138-9c2000dfb6f2",
   "metadata": {},
   "outputs": [
    {
     "name": "stdout",
     "output_type": "stream",
     "text": [
      " Volume in drive C has no label.\n",
      " Volume Serial Number is 9C35-B5F9\n",
      "\n",
      " Directory of C:\\Users\\Ranjit\\Desktop\\3rd_july_datascience\\email_classification\n",
      "\n",
      "05-08-2024  10:40    <DIR>          .\n",
      "05-08-2024  10:40    <DIR>          ..\n",
      "05-08-2024  10:24    <DIR>          .ipynb_checkpoints\n",
      "05-08-2024  10:19    <DIR>          Data\n",
      "05-08-2024  10:40                 0 demo.txt\n",
      "05-08-2024  10:40             1,908 email.ipynb\n",
      "               2 File(s)          1,908 bytes\n",
      "               4 Dir(s)  12,407,308,288 bytes free\n"
     ]
    }
   ],
   "source": [
    "ls "
   ]
  },
  {
   "cell_type": "code",
   "execution_count": 25,
   "id": "48daa8aa-483a-45d0-a869-5c109021bbac",
   "metadata": {},
   "outputs": [],
   "source": [
    "message = \"\"\"\n",
    "Hiii we are from upflairs, and thank you for joining\n",
    "our data science and machine program.\n",
    "\"\"\"\n",
    "file = open('demo.txt','w')  \n",
    "file.write(message)\n",
    "file.close()\n",
    "\n"
   ]
  },
  {
   "cell_type": "code",
   "execution_count": 26,
   "id": "85ae45fc-cbb6-441a-b294-5db76953a8d8",
   "metadata": {},
   "outputs": [
    {
     "name": "stdout",
     "output_type": "stream",
     "text": [
      "\n",
      "Hiii we are from upflairs, and thank you for joining\n",
      "our data science and machine program.\n",
      "\n"
     ]
    }
   ],
   "source": [
    "file = open('demo.txt','r') \n",
    "data = file.read()\n",
    "print(data)"
   ]
  },
  {
   "cell_type": "code",
   "execution_count": 35,
   "id": "fc218645-dcec-4f0d-b2a9-45de98682683",
   "metadata": {},
   "outputs": [],
   "source": [
    "message = \"\"\"\n",
    "\\nHiii we are from upflairs, and thank you for joining\n",
    "our data science and machine program.\n",
    "\"\"\"\n",
    "file = open('demo.txt','a')  \n",
    "file.write(message)\n",
    "file.close()\n",
    "\n"
   ]
  },
  {
   "cell_type": "code",
   "execution_count": 36,
   "id": "e37506f8-2f0b-454f-8621-c90c5c2d511f",
   "metadata": {},
   "outputs": [
    {
     "name": "stdout",
     "output_type": "stream",
     "text": [
      "\n",
      "Hiii we are from upflairs, and thank you for joining\n",
      "our data science and machine program.\n",
      "\n",
      "\n",
      "Hiii we are from upflairs, and thank you for joining\n",
      "our data science and machine program.\n",
      "\n",
      "\n",
      "Hiii we are from upflairs, and thank you for joining\n",
      "our data science and machine program.\n",
      "\n",
      "\n",
      "Hiii we are from upflairs, and thank you for joining\n",
      "our data science and machine program.\n",
      "\n",
      "\n",
      "Hiii we are from upflairs, and thank you for joining\n",
      "our data science and machine program.\n",
      "\n",
      "\n",
      "Hiii we are from upflairs, and thank you for joining\n",
      "our data science and machine program.\n",
      "\n",
      "\n",
      "Hiii we are from upflairs, and thank you for joining\n",
      "our data science and machine program.\n",
      "\n",
      "\n",
      "Hiii we are from upflairs, and thank you for joining\n",
      "our data science and machine program.\n",
      "\n",
      "\n",
      "Hiii we are from upflairs, and thank you for joining\n",
      "our data science and machine program.\n",
      "\n",
      "\n",
      "Hiii we are from upflairs, and thank you for joining\n",
      "our data science and machine program.\n",
      "\n"
     ]
    }
   ],
   "source": [
    "file = open('demo.txt','r') \n",
    "data = file.read()\n",
    "print(data)"
   ]
  },
  {
   "cell_type": "code",
   "execution_count": 43,
   "id": "115fadba-b8af-4689-a88b-f9a06e0de484",
   "metadata": {},
   "outputs": [
    {
     "name": "stdout",
     "output_type": "stream",
     "text": [
      "\n",
      "Hiii we are from upflairs, and thank you for joining\n",
      "our data science and machine program.\n",
      "\n",
      "\n",
      "Hiii we are from upflairs, and thank you for joining\n",
      "our data science and machine program.\n",
      "\n",
      "\n",
      "Hiii we are from upflairs, and thank you for joining\n",
      "our data science and machine program.\n",
      "\n",
      "\n",
      "Hiii we are from upflairs, and thank you for joining\n",
      "our data science and machine program.\n",
      "\n",
      "\n",
      "Hiii we are from upflairs, and thank you for joining\n",
      "our data science and machine program.\n",
      "\n",
      "\n",
      "Hiii we are from upflairs, and thank you for joining\n",
      "our data science and machine program.\n",
      "\n",
      "\n",
      "Hiii we are from upflairs, and thank you for joining\n",
      "our data science and machine program.\n",
      "\n",
      "\n",
      "Hiii we are from upflairs, and thank you for joining\n",
      "our data science and machine program.\n",
      "\n",
      "\n",
      "Hiii we are from upflairs, and thank you for joining\n",
      "our data science and machine program.\n",
      "\n",
      "\n",
      "Hiii we are from upflairs, and thank you for joining\n",
      "our data science and machine program.\n",
      "\n"
     ]
    }
   ],
   "source": [
    "file = open('demo.txt','r') \n",
    "data = file.read()\n",
    "file.close()\n",
    "print(data)"
   ]
  },
  {
   "cell_type": "code",
   "execution_count": 44,
   "id": "cbf9e3ba-60a9-4a6c-a00b-4d447cbca912",
   "metadata": {},
   "outputs": [
    {
     "name": "stdout",
     "output_type": "stream",
     "text": [
      "\n",
      "Hiii we are from upflairs, and thank you for joining\n",
      "our data science and machine program.\n",
      "\n",
      "\n",
      "Hiii we are from upflairs, and thank you for joining\n",
      "our data science and machine program.\n",
      "\n",
      "\n",
      "Hiii we are from upflairs, and thank you for joining\n",
      "our data science and machine program.\n",
      "\n",
      "\n",
      "Hiii we are from upflairs, and thank you for joining\n",
      "our data science and machine program.\n",
      "\n",
      "\n",
      "Hiii we are from upflairs, and thank you for joining\n",
      "our data science and machine program.\n",
      "\n",
      "\n",
      "Hiii we are from upflairs, and thank you for joining\n",
      "our data science and machine program.\n",
      "\n",
      "\n",
      "Hiii we are from upflairs, and thank you for joining\n",
      "our data science and machine program.\n",
      "\n",
      "\n",
      "Hiii we are from upflairs, and thank you for joining\n",
      "our data science and machine program.\n",
      "\n",
      "\n",
      "Hiii we are from upflairs, and thank you for joining\n",
      "our data science and machine program.\n",
      "\n",
      "\n",
      "Hiii we are from upflairs, and thank you for joining\n",
      "our data science and machine program.\n",
      "\n"
     ]
    }
   ],
   "source": [
    "with open('demo.txt','r')  as file:\n",
    "    data = file.read()\n",
    "    print(data)"
   ]
  },
  {
   "cell_type": "code",
   "execution_count": null,
   "id": "0af5fc69-4136-42f0-a97b-da715a66edff",
   "metadata": {},
   "outputs": [],
   "source": []
  },
  {
   "cell_type": "code",
   "execution_count": null,
   "id": "f26e2927-1733-42a2-9636-026f58593505",
   "metadata": {},
   "outputs": [],
   "source": []
  },
  {
   "cell_type": "code",
   "execution_count": null,
   "id": "4decbb62-ce7f-4c8d-a731-18bc29be06de",
   "metadata": {},
   "outputs": [],
   "source": []
  },
  {
   "cell_type": "code",
   "execution_count": null,
   "id": "d95c5321-3fab-4fcb-b71f-caba9b38628a",
   "metadata": {},
   "outputs": [],
   "source": []
  },
  {
   "cell_type": "code",
   "execution_count": null,
   "id": "ef697e8b-861f-4e7e-8c53-54c15f14aa6e",
   "metadata": {},
   "outputs": [],
   "source": []
  }
 ],
 "metadata": {
  "kernelspec": {
   "display_name": "Python 3 (ipykernel)",
   "language": "python",
   "name": "python3"
  },
  "language_info": {
   "codemirror_mode": {
    "name": "ipython",
    "version": 3
   },
   "file_extension": ".py",
   "mimetype": "text/x-python",
   "name": "python",
   "nbconvert_exporter": "python",
   "pygments_lexer": "ipython3",
   "version": "3.12.4"
  }
 },
 "nbformat": 4,
 "nbformat_minor": 5
}
