{
 "cells": [
  {
   "cell_type": "code",
   "execution_count": 1,
   "id": "9b484b45-1957-4e23-8c1a-fd2ea8365867",
   "metadata": {},
   "outputs": [],
   "source": [
    "import pandas as pd \n",
    "import numpy as np \n",
    "import re   # regular expression "
   ]
  },
  {
   "cell_type": "code",
   "execution_count": 2,
   "id": "2f999c9b-1bbb-4453-a138-9c2000dfb6f2",
   "metadata": {},
   "outputs": [
    {
     "name": "stdout",
     "output_type": "stream",
     "text": [
      " Volume in drive C has no label.\n",
      " Volume Serial Number is 9C35-B5F9\n",
      "\n",
      " Directory of C:\\Users\\Ranjit\\Desktop\\3rd_july_datascience\\email_classification\n",
      "\n",
      "06-08-2024  11:56    <DIR>          .\n",
      "06-08-2024  11:56    <DIR>          ..\n",
      "05-08-2024  10:24    <DIR>          .ipynb_checkpoints\n",
      "05-08-2024  10:19    <DIR>          Data\n",
      "06-08-2024  11:50               192 demo.txt\n",
      "06-08-2024  11:56            31,181 email.ipynb\n",
      "               2 File(s)         31,373 bytes\n",
      "               4 Dir(s)  15,325,487,104 bytes free\n"
     ]
    }
   ],
   "source": [
    "ls "
   ]
  },
  {
   "cell_type": "code",
   "execution_count": 3,
   "id": "48daa8aa-483a-45d0-a869-5c109021bbac",
   "metadata": {},
   "outputs": [],
   "source": [
    "message = \"\"\"\n",
    "Hiii we are from upflairs, and thank you for joining\n",
    "our data science and machine program.\n",
    "\"\"\"\n",
    "file = open('demo.txt','w')  \n",
    "file.write(message)\n",
    "file.close()\n",
    "\n"
   ]
  },
  {
   "cell_type": "code",
   "execution_count": 4,
   "id": "85ae45fc-cbb6-441a-b294-5db76953a8d8",
   "metadata": {},
   "outputs": [
    {
     "name": "stdout",
     "output_type": "stream",
     "text": [
      "\n",
      "Hiii we are from upflairs, and thank you for joining\n",
      "our data science and machine program.\n",
      "\n"
     ]
    }
   ],
   "source": [
    "file = open('demo.txt','r') \n",
    "data = file.read()\n",
    "print(data)"
   ]
  },
  {
   "cell_type": "code",
   "execution_count": 5,
   "id": "fc218645-dcec-4f0d-b2a9-45de98682683",
   "metadata": {},
   "outputs": [],
   "source": [
    "message = \"\"\"\n",
    "\\nHiii we are from upflairs, and thank you for joining\n",
    "our data science and machine program.\n",
    "\"\"\"\n",
    "file = open('demo.txt','a')  \n",
    "file.write(message)\n",
    "file.close()\n",
    "\n"
   ]
  },
  {
   "cell_type": "code",
   "execution_count": 6,
   "id": "e37506f8-2f0b-454f-8621-c90c5c2d511f",
   "metadata": {},
   "outputs": [
    {
     "name": "stdout",
     "output_type": "stream",
     "text": [
      "\n",
      "Hiii we are from upflairs, and thank you for joining\n",
      "our data science and machine program.\n",
      "\n",
      "\n",
      "Hiii we are from upflairs, and thank you for joining\n",
      "our data science and machine program.\n",
      "\n"
     ]
    }
   ],
   "source": [
    "file = open('demo.txt','r') \n",
    "data = file.read()\n",
    "print(data)"
   ]
  },
  {
   "cell_type": "code",
   "execution_count": 7,
   "id": "115fadba-b8af-4689-a88b-f9a06e0de484",
   "metadata": {},
   "outputs": [
    {
     "name": "stdout",
     "output_type": "stream",
     "text": [
      "\n",
      "Hiii we are from upflairs, and thank you for joining\n",
      "our data science and machine program.\n",
      "\n",
      "\n",
      "Hiii we are from upflairs, and thank you for joining\n",
      "our data science and machine program.\n",
      "\n"
     ]
    }
   ],
   "source": [
    "file = open('demo.txt','r') \n",
    "data = file.read()\n",
    "file.close()\n",
    "print(data)"
   ]
  },
  {
   "cell_type": "code",
   "execution_count": 8,
   "id": "cbf9e3ba-60a9-4a6c-a00b-4d447cbca912",
   "metadata": {},
   "outputs": [
    {
     "name": "stdout",
     "output_type": "stream",
     "text": [
      "\n",
      "Hiii we are from upflairs, and thank you for joining\n",
      "our data science and machine program.\n",
      "\n",
      "\n",
      "Hiii we are from upflairs, and thank you for joining\n",
      "our data science and machine program.\n",
      "\n"
     ]
    }
   ],
   "source": [
    "with open('demo.txt','r')  as file:\n",
    "    data = file.read()\n",
    "    print(data)"
   ]
  },
  {
   "cell_type": "code",
   "execution_count": null,
   "id": "0af5fc69-4136-42f0-a97b-da715a66edff",
   "metadata": {},
   "outputs": [],
   "source": []
  },
  {
   "cell_type": "code",
   "execution_count": 9,
   "id": "f26e2927-1733-42a2-9636-026f58593505",
   "metadata": {},
   "outputs": [],
   "source": [
    "# "
   ]
  },
  {
   "cell_type": "code",
   "execution_count": 10,
   "id": "4decbb62-ce7f-4c8d-a731-18bc29be06de",
   "metadata": {},
   "outputs": [],
   "source": [
    "### file handling \n",
    "# Message = \"hii we are from upflairs, thank you!\" \n",
    "\n",
    "# \"assign.txt\"   ==> 1000 times "
   ]
  },
  {
   "cell_type": "code",
   "execution_count": 11,
   "id": "d95c5321-3fab-4fcb-b71f-caba9b38628a",
   "metadata": {},
   "outputs": [],
   "source": [
    "file_path = \"./Data/SMSSpamCollection.txt\"\n",
    "\n",
    "file = open(file_path)\n",
    "data = file.read()\n",
    "file.close() "
   ]
  },
  {
   "cell_type": "code",
   "execution_count": 12,
   "id": "ef697e8b-861f-4e7e-8c53-54c15f14aa6e",
   "metadata": {},
   "outputs": [
    {
     "name": "stdout",
     "output_type": "stream",
     "text": [
      "Total no. of emails :  5575\n"
     ]
    }
   ],
   "source": [
    "print(\"Total no. of emails : \", len(data.split('\\n')))"
   ]
  },
  {
   "cell_type": "code",
   "execution_count": 13,
   "id": "3900c278-2b28-4736-9585-57ce77459f90",
   "metadata": {},
   "outputs": [
    {
     "data": {
      "text/plain": [
       "'ham\\tOk lar... Joking wif u oni...'"
      ]
     },
     "execution_count": 13,
     "metadata": {},
     "output_type": "execute_result"
    }
   ],
   "source": [
    "data.split('\\n')[1]"
   ]
  },
  {
   "cell_type": "code",
   "execution_count": 14,
   "id": "839a3f94-4171-4eba-b695-a505ea5d27a1",
   "metadata": {},
   "outputs": [],
   "source": [
    "x = []\n",
    "y = []\n",
    "for line in data.split('\\n'):\n",
    "    if len(line.split('\\t')) == 2 :\n",
    "        y.append(line.split('\\t')[0])\n",
    "        x.append(line.split('\\t')[1])"
   ]
  },
  {
   "cell_type": "code",
   "execution_count": 15,
   "id": "7b843eb1-2e78-4e0a-8fee-425c329e4e62",
   "metadata": {},
   "outputs": [
    {
     "data": {
      "text/plain": [
       "(5574, 5574)"
      ]
     },
     "execution_count": 15,
     "metadata": {},
     "output_type": "execute_result"
    }
   ],
   "source": [
    "len(x) , len(y)"
   ]
  },
  {
   "cell_type": "code",
   "execution_count": 16,
   "id": "ad20870e-fa28-4d77-9657-321feaf2f188",
   "metadata": {},
   "outputs": [
    {
     "data": {
      "text/plain": [
       "'Ok lar... Joking wif u oni...'"
      ]
     },
     "execution_count": 16,
     "metadata": {},
     "output_type": "execute_result"
    }
   ],
   "source": [
    "x[1]  # email message "
   ]
  },
  {
   "cell_type": "code",
   "execution_count": 17,
   "id": "ec1e63de-e849-40b3-b175-1e868a7ef8a7",
   "metadata": {},
   "outputs": [
    {
     "data": {
      "text/plain": [
       "'ham'"
      ]
     },
     "execution_count": 17,
     "metadata": {},
     "output_type": "execute_result"
    }
   ],
   "source": [
    "y[1]   # label "
   ]
  },
  {
   "cell_type": "code",
   "execution_count": 18,
   "id": "102d4d13-aeed-48f0-9a2e-b09441d5e1d6",
   "metadata": {},
   "outputs": [
    {
     "data": {
      "text/html": [
       "<div>\n",
       "<style scoped>\n",
       "    .dataframe tbody tr th:only-of-type {\n",
       "        vertical-align: middle;\n",
       "    }\n",
       "\n",
       "    .dataframe tbody tr th {\n",
       "        vertical-align: top;\n",
       "    }\n",
       "\n",
       "    .dataframe thead th {\n",
       "        text-align: right;\n",
       "    }\n",
       "</style>\n",
       "<table border=\"1\" class=\"dataframe\">\n",
       "  <thead>\n",
       "    <tr style=\"text-align: right;\">\n",
       "      <th></th>\n",
       "      <th>email_message</th>\n",
       "      <th>labels</th>\n",
       "    </tr>\n",
       "  </thead>\n",
       "  <tbody>\n",
       "    <tr>\n",
       "      <th>0</th>\n",
       "      <td>Go until jurong point, crazy.. Available only ...</td>\n",
       "      <td>ham</td>\n",
       "    </tr>\n",
       "    <tr>\n",
       "      <th>1</th>\n",
       "      <td>Ok lar... Joking wif u oni...</td>\n",
       "      <td>ham</td>\n",
       "    </tr>\n",
       "    <tr>\n",
       "      <th>2</th>\n",
       "      <td>Free entry in 2 a wkly comp to win FA Cup fina...</td>\n",
       "      <td>spam</td>\n",
       "    </tr>\n",
       "    <tr>\n",
       "      <th>3</th>\n",
       "      <td>U dun say so early hor... U c already then say...</td>\n",
       "      <td>ham</td>\n",
       "    </tr>\n",
       "    <tr>\n",
       "      <th>4</th>\n",
       "      <td>Nah I don't think he goes to usf, he lives aro...</td>\n",
       "      <td>ham</td>\n",
       "    </tr>\n",
       "  </tbody>\n",
       "</table>\n",
       "</div>"
      ],
      "text/plain": [
       "                                       email_message labels\n",
       "0  Go until jurong point, crazy.. Available only ...    ham\n",
       "1                      Ok lar... Joking wif u oni...    ham\n",
       "2  Free entry in 2 a wkly comp to win FA Cup fina...   spam\n",
       "3  U dun say so early hor... U c already then say...    ham\n",
       "4  Nah I don't think he goes to usf, he lives aro...    ham"
      ]
     },
     "execution_count": 18,
     "metadata": {},
     "output_type": "execute_result"
    }
   ],
   "source": [
    "# create dataframe \n",
    "email_data = pd.DataFrame({\"email_message\":x,\"labels\":y})\n",
    "email_data.head()"
   ]
  },
  {
   "cell_type": "code",
   "execution_count": 19,
   "id": "c7bedc0d-d497-4b8a-bf67-700865fd051f",
   "metadata": {},
   "outputs": [],
   "source": [
    "import  pandas as pd "
   ]
  },
  {
   "cell_type": "code",
   "execution_count": 20,
   "id": "f8b59e4b-7be3-488e-bc8d-a24324cf97d3",
   "metadata": {},
   "outputs": [
    {
     "data": {
      "text/html": [
       "<div>\n",
       "<style scoped>\n",
       "    .dataframe tbody tr th:only-of-type {\n",
       "        vertical-align: middle;\n",
       "    }\n",
       "\n",
       "    .dataframe tbody tr th {\n",
       "        vertical-align: top;\n",
       "    }\n",
       "\n",
       "    .dataframe thead th {\n",
       "        text-align: right;\n",
       "    }\n",
       "</style>\n",
       "<table border=\"1\" class=\"dataframe\">\n",
       "  <thead>\n",
       "    <tr style=\"text-align: right;\">\n",
       "      <th></th>\n",
       "      <th>labels</th>\n",
       "      <th>email_message</th>\n",
       "    </tr>\n",
       "  </thead>\n",
       "  <tbody>\n",
       "    <tr>\n",
       "      <th>0</th>\n",
       "      <td>ham</td>\n",
       "      <td>Ok lar... Joking wif u oni...</td>\n",
       "    </tr>\n",
       "    <tr>\n",
       "      <th>1</th>\n",
       "      <td>spam</td>\n",
       "      <td>Free entry in 2 a wkly comp to win FA Cup fina...</td>\n",
       "    </tr>\n",
       "    <tr>\n",
       "      <th>2</th>\n",
       "      <td>ham</td>\n",
       "      <td>U dun say so early hor... U c already then say...</td>\n",
       "    </tr>\n",
       "    <tr>\n",
       "      <th>3</th>\n",
       "      <td>ham</td>\n",
       "      <td>Nah I don't think he goes to usf, he lives aro...</td>\n",
       "    </tr>\n",
       "    <tr>\n",
       "      <th>4</th>\n",
       "      <td>spam</td>\n",
       "      <td>FreeMsg Hey there darling it's been 3 week's n...</td>\n",
       "    </tr>\n",
       "  </tbody>\n",
       "</table>\n",
       "</div>"
      ],
      "text/plain": [
       "  labels                                      email_message\n",
       "0    ham                      Ok lar... Joking wif u oni...\n",
       "1   spam  Free entry in 2 a wkly comp to win FA Cup fina...\n",
       "2    ham  U dun say so early hor... U c already then say...\n",
       "3    ham  Nah I don't think he goes to usf, he lives aro...\n",
       "4   spam  FreeMsg Hey there darling it's been 3 week's n..."
      ]
     },
     "execution_count": 20,
     "metadata": {},
     "output_type": "execute_result"
    }
   ],
   "source": [
    "df2 = pd.read_table(file_path)\n",
    "df2.columns=[\"labels\",'email_message'] \n",
    "df2.head()\n"
   ]
  },
  {
   "cell_type": "code",
   "execution_count": 21,
   "id": "990f39ca-b590-49c7-a325-0371e82c1a0c",
   "metadata": {},
   "outputs": [
    {
     "name": "stdout",
     "output_type": "stream",
     "text": [
      "Total no. of emails :  5571\n"
     ]
    }
   ],
   "source": [
    "print(\"Total no. of emails : \",df2.shape[0])"
   ]
  },
  {
   "cell_type": "code",
   "execution_count": 22,
   "id": "2fde3204-1e5b-4c12-aa9d-2ae048462d47",
   "metadata": {},
   "outputs": [
    {
     "data": {
      "text/plain": [
       "\"Free entry in 2 a wkly comp to win FA Cup final tkts 21st May 2005. Text FA to 87121 to receive entry question(std txt rate)T&C's apply 08452810075over18's\""
      ]
     },
     "execution_count": 22,
     "metadata": {},
     "output_type": "execute_result"
    }
   ],
   "source": [
    "single_email = df2['email_message'][1]\n",
    "single_email"
   ]
  },
  {
   "cell_type": "code",
   "execution_count": 23,
   "id": "36d5e4cc-340f-435d-bb6b-a735efb8bb80",
   "metadata": {},
   "outputs": [
    {
     "data": {
      "text/plain": [
       "str"
      ]
     },
     "execution_count": 23,
     "metadata": {},
     "output_type": "execute_result"
    }
   ],
   "source": [
    "type(single_email)"
   ]
  },
  {
   "cell_type": "code",
   "execution_count": 24,
   "id": "57517105-b723-4faf-979b-3c92ba6590ae",
   "metadata": {},
   "outputs": [],
   "source": [
    "single_email = single_email.lower()"
   ]
  },
  {
   "cell_type": "code",
   "execution_count": 25,
   "id": "310e89fc-f46a-4fae-9821-5233f09b1faa",
   "metadata": {},
   "outputs": [
    {
     "data": {
      "text/plain": [
       "\"free entry in 2 a wkly comp to win fa cup final tkts 21st may 2005. text fa to 87121 to receive entry question(std txt rate)t&c's apply 08452810075over18's\""
      ]
     },
     "execution_count": 25,
     "metadata": {},
     "output_type": "execute_result"
    }
   ],
   "source": [
    "single_email "
   ]
  },
  {
   "cell_type": "code",
   "execution_count": 26,
   "id": "de71f6f7-ce5d-43a8-a35a-72d61f3d4c0c",
   "metadata": {},
   "outputs": [],
   "source": [
    "import re   # regular expression "
   ]
  },
  {
   "cell_type": "code",
   "execution_count": 27,
   "id": "30e18df9-1aa3-4291-b704-84e64b53e5bc",
   "metadata": {},
   "outputs": [
    {
     "data": {
      "text/plain": [
       "['2', '2', '2', '2', '2']"
      ]
     },
     "execution_count": 27,
     "metadata": {},
     "output_type": "execute_result"
    }
   ],
   "source": [
    "re.findall(\"2\",single_email)"
   ]
  },
  {
   "cell_type": "code",
   "execution_count": 28,
   "id": "3397722b-08ad-4141-8cf2-0692b1f1aa02",
   "metadata": {},
   "outputs": [
    {
     "data": {
      "text/plain": [
       "'free entry in  a wkly comp to win fa cup final tkts st may  text fa to  to receive entry questionstd txt ratetcs apply overs'"
      ]
     },
     "execution_count": 28,
     "metadata": {},
     "output_type": "execute_result"
    }
   ],
   "source": [
    "re.sub(\"[^a-zA-Z ]\",\"\",single_email)  # substitute"
   ]
  },
  {
   "cell_type": "code",
   "execution_count": 29,
   "id": "75cbfec2-b3a9-444c-9027-428357c443f6",
   "metadata": {},
   "outputs": [
    {
     "data": {
      "text/plain": [
       "\"free entry in 2 a wkly comp to win fa cup final tkts 21st may 2005. text fa to 87121 to receive entry question(std txt rate)t&c's apply 0852810075over18's\""
      ]
     },
     "execution_count": 29,
     "metadata": {},
     "output_type": "execute_result"
    }
   ],
   "source": [
    "single_email.replace('2',\"\")\n",
    "single_email.replace('3',\"\")\n",
    "single_email.replace('4',\"\")\n"
   ]
  },
  {
   "cell_type": "code",
   "execution_count": 30,
   "id": "28d8c37b-0299-48c7-aa68-3abfb38fe378",
   "metadata": {},
   "outputs": [
    {
     "data": {
      "text/html": [
       "<div>\n",
       "<style scoped>\n",
       "    .dataframe tbody tr th:only-of-type {\n",
       "        vertical-align: middle;\n",
       "    }\n",
       "\n",
       "    .dataframe tbody tr th {\n",
       "        vertical-align: top;\n",
       "    }\n",
       "\n",
       "    .dataframe thead th {\n",
       "        text-align: right;\n",
       "    }\n",
       "</style>\n",
       "<table border=\"1\" class=\"dataframe\">\n",
       "  <thead>\n",
       "    <tr style=\"text-align: right;\">\n",
       "      <th></th>\n",
       "      <th>labels</th>\n",
       "      <th>email_message</th>\n",
       "    </tr>\n",
       "  </thead>\n",
       "  <tbody>\n",
       "    <tr>\n",
       "      <th>0</th>\n",
       "      <td>ham</td>\n",
       "      <td>Ok lar... Joking wif u oni...</td>\n",
       "    </tr>\n",
       "    <tr>\n",
       "      <th>1</th>\n",
       "      <td>spam</td>\n",
       "      <td>Free entry in 2 a wkly comp to win FA Cup fina...</td>\n",
       "    </tr>\n",
       "    <tr>\n",
       "      <th>2</th>\n",
       "      <td>ham</td>\n",
       "      <td>U dun say so early hor... U c already then say...</td>\n",
       "    </tr>\n",
       "    <tr>\n",
       "      <th>3</th>\n",
       "      <td>ham</td>\n",
       "      <td>Nah I don't think he goes to usf, he lives aro...</td>\n",
       "    </tr>\n",
       "    <tr>\n",
       "      <th>4</th>\n",
       "      <td>spam</td>\n",
       "      <td>FreeMsg Hey there darling it's been 3 week's n...</td>\n",
       "    </tr>\n",
       "    <tr>\n",
       "      <th>...</th>\n",
       "      <td>...</td>\n",
       "      <td>...</td>\n",
       "    </tr>\n",
       "    <tr>\n",
       "      <th>5566</th>\n",
       "      <td>spam</td>\n",
       "      <td>This is the 2nd time we have tried 2 contact u...</td>\n",
       "    </tr>\n",
       "    <tr>\n",
       "      <th>5567</th>\n",
       "      <td>ham</td>\n",
       "      <td>Will ü b going to esplanade fr home?</td>\n",
       "    </tr>\n",
       "    <tr>\n",
       "      <th>5568</th>\n",
       "      <td>ham</td>\n",
       "      <td>Pity, * was in mood for that. So...any other s...</td>\n",
       "    </tr>\n",
       "    <tr>\n",
       "      <th>5569</th>\n",
       "      <td>ham</td>\n",
       "      <td>The guy did some bitching but I acted like i'd...</td>\n",
       "    </tr>\n",
       "    <tr>\n",
       "      <th>5570</th>\n",
       "      <td>ham</td>\n",
       "      <td>Rofl. Its true to its name</td>\n",
       "    </tr>\n",
       "  </tbody>\n",
       "</table>\n",
       "<p>5571 rows × 2 columns</p>\n",
       "</div>"
      ],
      "text/plain": [
       "     labels                                      email_message\n",
       "0       ham                      Ok lar... Joking wif u oni...\n",
       "1      spam  Free entry in 2 a wkly comp to win FA Cup fina...\n",
       "2       ham  U dun say so early hor... U c already then say...\n",
       "3       ham  Nah I don't think he goes to usf, he lives aro...\n",
       "4      spam  FreeMsg Hey there darling it's been 3 week's n...\n",
       "...     ...                                                ...\n",
       "5566   spam  This is the 2nd time we have tried 2 contact u...\n",
       "5567    ham               Will ü b going to esplanade fr home?\n",
       "5568    ham  Pity, * was in mood for that. So...any other s...\n",
       "5569    ham  The guy did some bitching but I acted like i'd...\n",
       "5570    ham                         Rofl. Its true to its name\n",
       "\n",
       "[5571 rows x 2 columns]"
      ]
     },
     "execution_count": 30,
     "metadata": {},
     "output_type": "execute_result"
    }
   ],
   "source": [
    "df2 "
   ]
  },
  {
   "cell_type": "code",
   "execution_count": 31,
   "id": "c0c19b4d-f69e-478a-92f2-158bea91910a",
   "metadata": {},
   "outputs": [
    {
     "name": "stderr",
     "output_type": "stream",
     "text": [
      "C:\\Users\\Ranjit\\AppData\\Local\\Temp\\ipykernel_13804\\1883652009.py:6: FutureWarning: ChainedAssignmentError: behaviour will change in pandas 3.0!\n",
      "You are setting values through chained assignment. Currently this works in certain cases, but when using Copy-on-Write (which will become the default behaviour in pandas 3.0) this will never work to update the original DataFrame or Series, because the intermediate object on which we are setting values will behave as a copy.\n",
      "A typical example is when you are setting values in a column of a DataFrame, like:\n",
      "\n",
      "df[\"col\"][row_indexer] = value\n",
      "\n",
      "Use `df.loc[row_indexer, \"col\"] = values` instead, to perform the assignment in a single step and ensure this keeps updating the original `df`.\n",
      "\n",
      "See the caveats in the documentation: https://pandas.pydata.org/pandas-docs/stable/user_guide/indexing.html#returning-a-view-versus-a-copy\n",
      "\n",
      "  df2['email_message'][i] = re.sub(\"[^a-zA-Z ]\",\"\",email_message)\n"
     ]
    }
   ],
   "source": [
    "# lowercase \n",
    "# a-zA-Z  other char removed \n",
    "for i in range(len(df2['email_message'])):\n",
    "    email_message = df2['email_message'][i]\n",
    "    email_message = email_message.lower()\n",
    "    df2['email_message'][i] = re.sub(\"[^a-zA-Z ]\",\"\",email_message)\n",
    "    "
   ]
  },
  {
   "cell_type": "code",
   "execution_count": 32,
   "id": "6d650b1a-c883-43e2-86e0-035813a6dd96",
   "metadata": {},
   "outputs": [
    {
     "data": {
      "text/plain": [
       "labels\n",
       "ham     4824\n",
       "spam     747\n",
       "Name: count, dtype: int64"
      ]
     },
     "execution_count": 32,
     "metadata": {},
     "output_type": "execute_result"
    }
   ],
   "source": [
    "df2['labels'].value_counts()"
   ]
  },
  {
   "cell_type": "code",
   "execution_count": 33,
   "id": "8c09113e-b5be-4218-9d1f-8edb46857f50",
   "metadata": {},
   "outputs": [
    {
     "data": {
      "text/html": [
       "<div>\n",
       "<style scoped>\n",
       "    .dataframe tbody tr th:only-of-type {\n",
       "        vertical-align: middle;\n",
       "    }\n",
       "\n",
       "    .dataframe tbody tr th {\n",
       "        vertical-align: top;\n",
       "    }\n",
       "\n",
       "    .dataframe thead th {\n",
       "        text-align: right;\n",
       "    }\n",
       "</style>\n",
       "<table border=\"1\" class=\"dataframe\">\n",
       "  <thead>\n",
       "    <tr style=\"text-align: right;\">\n",
       "      <th></th>\n",
       "      <th>labels</th>\n",
       "      <th>email_message</th>\n",
       "    </tr>\n",
       "  </thead>\n",
       "  <tbody>\n",
       "    <tr>\n",
       "      <th>0</th>\n",
       "      <td>ham</td>\n",
       "      <td>ok lar joking wif u oni</td>\n",
       "    </tr>\n",
       "    <tr>\n",
       "      <th>1</th>\n",
       "      <td>spam</td>\n",
       "      <td>free entry in  a wkly comp to win fa cup final...</td>\n",
       "    </tr>\n",
       "    <tr>\n",
       "      <th>2</th>\n",
       "      <td>ham</td>\n",
       "      <td>u dun say so early hor u c already then say</td>\n",
       "    </tr>\n",
       "    <tr>\n",
       "      <th>3</th>\n",
       "      <td>ham</td>\n",
       "      <td>nah i dont think he goes to usf he lives aroun...</td>\n",
       "    </tr>\n",
       "    <tr>\n",
       "      <th>4</th>\n",
       "      <td>spam</td>\n",
       "      <td>freemsg hey there darling its been  weeks now ...</td>\n",
       "    </tr>\n",
       "  </tbody>\n",
       "</table>\n",
       "</div>"
      ],
      "text/plain": [
       "  labels                                      email_message\n",
       "0    ham                            ok lar joking wif u oni\n",
       "1   spam  free entry in  a wkly comp to win fa cup final...\n",
       "2    ham        u dun say so early hor u c already then say\n",
       "3    ham  nah i dont think he goes to usf he lives aroun...\n",
       "4   spam  freemsg hey there darling its been  weeks now ..."
      ]
     },
     "execution_count": 33,
     "metadata": {},
     "output_type": "execute_result"
    }
   ],
   "source": [
    "df2.head()"
   ]
  },
  {
   "cell_type": "code",
   "execution_count": 34,
   "id": "2ed1a8df-4dce-4140-b5c2-7d2a045bf126",
   "metadata": {},
   "outputs": [],
   "source": [
    "ham =  df2[df2['labels'] == \"ham\"]\n",
    "spam =  df2[df2['labels'] == \"spam\"]"
   ]
  },
  {
   "cell_type": "code",
   "execution_count": 35,
   "id": "dfc22e49-73c1-4c39-9f83-71739cd46b56",
   "metadata": {},
   "outputs": [
    {
     "data": {
      "text/plain": [
       "(747, 2)"
      ]
     },
     "execution_count": 35,
     "metadata": {},
     "output_type": "execute_result"
    }
   ],
   "source": [
    "spam.shape "
   ]
  },
  {
   "cell_type": "code",
   "execution_count": 36,
   "id": "212ba782-d01f-4215-9b92-558eb7a3a433",
   "metadata": {},
   "outputs": [
    {
     "data": {
      "text/plain": [
       "(4824, 2)"
      ]
     },
     "execution_count": 36,
     "metadata": {},
     "output_type": "execute_result"
    }
   ],
   "source": [
    "ham.shape "
   ]
  },
  {
   "cell_type": "code",
   "execution_count": 37,
   "id": "20025c91-90ac-433b-8eef-f8aac3cadfc3",
   "metadata": {},
   "outputs": [],
   "source": [
    "ham = ham.sample(1000)"
   ]
  },
  {
   "cell_type": "code",
   "execution_count": 38,
   "id": "58a57931-fab0-4fed-a765-c4e13940a748",
   "metadata": {},
   "outputs": [
    {
     "data": {
      "text/plain": [
       "(1000, 2)"
      ]
     },
     "execution_count": 38,
     "metadata": {},
     "output_type": "execute_result"
    }
   ],
   "source": [
    "ham.shape "
   ]
  },
  {
   "cell_type": "code",
   "execution_count": 39,
   "id": "db735cc5-b92f-441d-9f89-5281b4bef3ff",
   "metadata": {},
   "outputs": [],
   "source": [
    "# spam = spam.sample(1000,replace=True)"
   ]
  },
  {
   "cell_type": "code",
   "execution_count": 40,
   "id": "6d098058-380d-4ec5-b2fa-07cbf9bd7fe1",
   "metadata": {},
   "outputs": [
    {
     "data": {
      "text/plain": [
       "((747, 2), (1000, 2))"
      ]
     },
     "execution_count": 40,
     "metadata": {},
     "output_type": "execute_result"
    }
   ],
   "source": [
    "spam.shape  , ham.shape "
   ]
  },
  {
   "cell_type": "code",
   "execution_count": 41,
   "id": "867a43b5-edb9-4ca6-a374-cae573b37269",
   "metadata": {},
   "outputs": [],
   "source": [
    "new_df = pd.concat([spam,ham])"
   ]
  },
  {
   "cell_type": "code",
   "execution_count": 42,
   "id": "392a0bae-d4af-48ae-81f2-aff8a855cf04",
   "metadata": {},
   "outputs": [
    {
     "data": {
      "text/plain": [
       "(1747, 2)"
      ]
     },
     "execution_count": 42,
     "metadata": {},
     "output_type": "execute_result"
    }
   ],
   "source": [
    "new_df.shape "
   ]
  },
  {
   "cell_type": "code",
   "execution_count": 43,
   "id": "8e6ee4fd-9747-45ed-87f8-4f22e4bc432d",
   "metadata": {},
   "outputs": [
    {
     "data": {
      "text/plain": [
       "154"
      ]
     },
     "execution_count": 43,
     "metadata": {},
     "output_type": "execute_result"
    }
   ],
   "source": [
    "new_df.duplicated().sum()"
   ]
  },
  {
   "cell_type": "code",
   "execution_count": 44,
   "id": "1b65f64c-0a0b-47b9-877a-df918072283f",
   "metadata": {},
   "outputs": [
    {
     "data": {
      "text/plain": [
       "130"
      ]
     },
     "execution_count": 44,
     "metadata": {},
     "output_type": "execute_result"
    }
   ],
   "source": [
    "spam.duplicated().sum()"
   ]
  },
  {
   "cell_type": "code",
   "execution_count": 45,
   "id": "6159da3e-f841-4ca4-9fc1-a245ff948756",
   "metadata": {},
   "outputs": [
    {
     "data": {
      "text/plain": [
       "24"
      ]
     },
     "execution_count": 45,
     "metadata": {},
     "output_type": "execute_result"
    }
   ],
   "source": [
    "ham.duplicated().sum() "
   ]
  },
  {
   "cell_type": "code",
   "execution_count": 46,
   "id": "ec8a873e-00b4-4242-8cfe-641cd5bd67c0",
   "metadata": {},
   "outputs": [
    {
     "data": {
      "text/plain": [
       "labels\n",
       "ham     1000\n",
       "spam     747\n",
       "Name: count, dtype: int64"
      ]
     },
     "execution_count": 46,
     "metadata": {},
     "output_type": "execute_result"
    }
   ],
   "source": [
    "new_df['labels'].value_counts()"
   ]
  },
  {
   "cell_type": "code",
   "execution_count": 47,
   "id": "58d926e7-dc9a-47fc-86f8-f2683563a31d",
   "metadata": {},
   "outputs": [],
   "source": [
    "new_df['labels'] = new_df['labels'].map({'spam':1,'ham':0})"
   ]
  },
  {
   "cell_type": "code",
   "execution_count": 48,
   "id": "6da658d2-56ed-476d-acfd-a0049f1904b2",
   "metadata": {},
   "outputs": [],
   "source": [
    "x = new_df['email_message']\n",
    "y = new_df['labels']"
   ]
  },
  {
   "cell_type": "code",
   "execution_count": 49,
   "id": "4ff9f121-e357-4b6e-810d-3bf986d0fab4",
   "metadata": {},
   "outputs": [
    {
     "data": {
      "text/plain": [
       "pandas.core.series.Series"
      ]
     },
     "execution_count": 49,
     "metadata": {},
     "output_type": "execute_result"
    }
   ],
   "source": [
    "type(x)"
   ]
  },
  {
   "cell_type": "code",
   "execution_count": 50,
   "id": "6a18154e-37a4-4937-935b-c3501d201d21",
   "metadata": {},
   "outputs": [],
   "source": [
    "x = x.values"
   ]
  },
  {
   "cell_type": "code",
   "execution_count": 51,
   "id": "5f9b544e-ea87-49a3-b03b-1367d983d7e8",
   "metadata": {},
   "outputs": [
    {
     "data": {
      "text/plain": [
       "numpy.ndarray"
      ]
     },
     "execution_count": 51,
     "metadata": {},
     "output_type": "execute_result"
    }
   ],
   "source": [
    "type(x)"
   ]
  },
  {
   "cell_type": "code",
   "execution_count": 53,
   "id": "649362f8-9fde-463e-a12f-831c4eb9f2ce",
   "metadata": {},
   "outputs": [
    {
     "data": {
      "text/plain": [
       "((1747,), 1747)"
      ]
     },
     "execution_count": 53,
     "metadata": {},
     "output_type": "execute_result"
    }
   ],
   "source": [
    "x.shape , len(y)"
   ]
  },
  {
   "cell_type": "code",
   "execution_count": 57,
   "id": "dc7ec943-6e3c-4ba2-baf0-96d1c4eb806c",
   "metadata": {},
   "outputs": [
    {
     "data": {
      "text/plain": [
       "<Compressed Sparse Row sparse matrix of dtype 'int64'\n",
       "\twith 12624 stored elements and shape (1747, 1500)>"
      ]
     },
     "execution_count": 57,
     "metadata": {},
     "output_type": "execute_result"
    }
   ],
   "source": [
    "from sklearn.feature_extraction.text import CountVectorizer,TfidfVectorizer\n",
    "bow_obj = CountVectorizer(max_features=1500,stop_words='english')\n",
    "\n",
    "X = bow_obj.fit_transform(x)\n",
    "X "
   ]
  },
  {
   "cell_type": "code",
   "execution_count": 59,
   "id": "b2528b5f-2999-4fd1-ae00-6fe8c74ddaaa",
   "metadata": {},
   "outputs": [],
   "source": [
    "X_transformed = X.toarray()"
   ]
  },
  {
   "cell_type": "code",
   "execution_count": 64,
   "id": "5a7d161d-b1ad-44d8-a0ad-fdb152c05f78",
   "metadata": {},
   "outputs": [
    {
     "data": {
      "text/plain": [
       "array([[0, 0, 0, ..., 0, 0, 0],\n",
       "       [0, 0, 0, ..., 0, 0, 0],\n",
       "       [0, 0, 0, ..., 0, 0, 0],\n",
       "       ...,\n",
       "       [0, 0, 0, ..., 0, 0, 0],\n",
       "       [0, 0, 0, ..., 0, 0, 0],\n",
       "       [0, 0, 0, ..., 0, 0, 0]], dtype=int64)"
      ]
     },
     "execution_count": 64,
     "metadata": {},
     "output_type": "execute_result"
    }
   ],
   "source": [
    "X_transformed"
   ]
  },
  {
   "cell_type": "code",
   "execution_count": 68,
   "id": "e0c36bdb-2017-47a2-82c7-91670089a977",
   "metadata": {},
   "outputs": [
    {
     "data": {
      "text/plain": [
       "((1747,), (1747, 1500))"
      ]
     },
     "execution_count": 68,
     "metadata": {},
     "output_type": "execute_result"
    }
   ],
   "source": [
    "y.shape  , X_transformed.shape "
   ]
  },
  {
   "cell_type": "code",
   "execution_count": 70,
   "id": "aab5b516-e091-4463-89db-ef2844294f30",
   "metadata": {},
   "outputs": [],
   "source": [
    "from sklearn.model_selection import train_test_split\n",
    "x_train,x_test,y_train,y_test = train_test_split(X_transformed,y,test_size=0.15,random_state=42)"
   ]
  },
  {
   "cell_type": "code",
   "execution_count": 73,
   "id": "4e68e24a-1ed7-4830-a741-5a37a0fd5c5b",
   "metadata": {},
   "outputs": [
    {
     "name": "stdout",
     "output_type": "stream",
     "text": [
      "ALgorithms trained on the data!\n",
      "Multinomial Naive bayes\n",
      "Training score :  0.9669811320754716\n",
      "Testing score :  0.9505703422053232\n",
      "\n",
      "Bernoli Naive bayes\n",
      "Training score :  0.9568733153638814\n",
      "Testing score :  0.9467680608365019\n"
     ]
    }
   ],
   "source": [
    "## Model training  algorithm train \n",
    "from sklearn.naive_bayes import MultinomialNB, BernoulliNB , GaussianNB\n",
    "mnb = MultinomialNB()\n",
    "bnb = BernoulliNB()\n",
    "\n",
    "\n",
    "mnb.fit(x_train,y_train) \n",
    "bnb.fit(x_train,y_train) \n",
    "print(\"ALgorithms trained on the data!\") \n",
    "\n",
    "print(\"Multinomial Naive bayes\")\n",
    "print(\"Training score : \",mnb.score(x_train,y_train))\n",
    "print(\"Testing score : \",  mnb.score(x_test,y_test) )\n",
    "print()\n",
    "print(\"Bernoli Naive bayes\")\n",
    "print(\"Training score : \",bnb.score(x_train,y_train))\n",
    "print(\"Testing score : \",  bnb.score(x_test,y_test) )"
   ]
  },
  {
   "cell_type": "code",
   "execution_count": 76,
   "id": "b895af7b-1c82-4eb1-92d7-99e1b958bff7",
   "metadata": {},
   "outputs": [
    {
     "data": {
      "text/plain": [
       "array([0, 0, 1, 1, 1, 0, 0, 1, 1, 1, 1, 0, 1, 1, 0, 1, 0, 1, 1, 1, 1, 0,\n",
       "       0, 0, 1, 0, 0, 1, 1, 0, 1, 1, 1, 0, 0, 0, 1, 0, 1, 0, 0, 0, 0, 1,\n",
       "       1, 0, 1, 0, 0, 0, 0, 0, 1, 0, 0, 0, 1, 0, 1, 1, 1, 0, 1, 0, 0, 1,\n",
       "       0, 1, 1, 0, 0, 0, 0, 1, 1, 0, 0, 0, 1, 0, 0, 1, 0, 0, 1, 1, 0, 0,\n",
       "       1, 0, 1, 0, 0, 0, 1, 0, 0, 1, 0, 1, 1, 1, 0, 0, 0, 0, 0, 1, 0, 1,\n",
       "       1, 1, 0, 1, 1, 1, 1, 0, 1, 0, 0, 1, 0, 0, 0, 0, 1, 0, 1, 0, 1, 0,\n",
       "       0, 1, 1, 1, 1, 1, 1, 0, 1, 1, 1, 0, 0, 0, 0, 0, 0, 1, 0, 1, 0, 0,\n",
       "       0, 0, 1, 1, 0, 0, 1, 1, 0, 1, 0, 0, 0, 0, 0, 0, 0, 0, 0, 1, 0, 1,\n",
       "       0, 0, 0, 1, 1, 1, 0, 1, 1, 0, 0, 1, 0, 1, 1, 0, 1, 1, 0, 1, 0, 0,\n",
       "       1, 0, 0, 1, 1, 0, 1, 0, 0, 0, 0, 1, 0, 1, 0, 0, 0, 1, 0, 0, 0, 0,\n",
       "       0, 1, 1, 1, 0, 1, 1, 0, 0, 1, 0, 1, 0, 1, 1, 0, 1, 1, 0, 0, 1, 0,\n",
       "       1, 0, 0, 0, 0, 1, 0, 0, 1, 1, 0, 1, 1, 0, 1, 0, 1, 0, 0, 0, 1],\n",
       "      dtype=int64)"
      ]
     },
     "execution_count": 76,
     "metadata": {},
     "output_type": "execute_result"
    }
   ],
   "source": [
    "### prediction \n",
    "prediction = mnb.predict(x_test)\n",
    "prediction"
   ]
  },
  {
   "cell_type": "code",
   "execution_count": 78,
   "id": "d7f9b59c-946c-4d8e-ab6f-68f5a8d18a70",
   "metadata": {},
   "outputs": [
    {
     "data": {
      "text/plain": [
       "array([0, 0, 1, 1, 1, 0, 0, 1, 1, 1, 1, 0, 1, 1, 0, 1, 1, 1, 1, 1, 1, 0,\n",
       "       0, 0, 1, 0, 0, 1, 1, 0, 1, 1, 1, 0, 0, 0, 1, 0, 1, 0, 0, 0, 0, 1,\n",
       "       1, 0, 0, 0, 0, 0, 0, 0, 1, 0, 0, 0, 1, 0, 1, 1, 1, 0, 1, 0, 0, 1,\n",
       "       0, 1, 0, 0, 0, 0, 0, 1, 1, 0, 0, 0, 1, 0, 0, 1, 0, 1, 1, 1, 0, 0,\n",
       "       1, 0, 1, 0, 0, 0, 1, 0, 0, 1, 0, 0, 1, 1, 0, 0, 0, 0, 0, 1, 0, 1,\n",
       "       1, 1, 0, 1, 1, 0, 1, 0, 1, 0, 0, 1, 0, 1, 0, 0, 1, 0, 1, 0, 1, 0,\n",
       "       0, 1, 1, 1, 1, 1, 1, 0, 1, 1, 1, 1, 0, 0, 1, 0, 0, 1, 0, 1, 0, 0,\n",
       "       0, 0, 1, 1, 0, 0, 1, 1, 0, 1, 0, 0, 0, 0, 0, 0, 0, 0, 0, 1, 0, 1,\n",
       "       0, 1, 0, 1, 1, 1, 0, 1, 1, 0, 1, 1, 0, 1, 1, 0, 1, 1, 0, 1, 0, 0,\n",
       "       1, 0, 0, 1, 1, 0, 1, 0, 1, 0, 0, 1, 0, 1, 0, 0, 0, 1, 0, 0, 0, 0,\n",
       "       0, 1, 1, 1, 0, 1, 1, 0, 0, 1, 0, 1, 0, 1, 1, 0, 1, 1, 1, 0, 1, 0,\n",
       "       1, 0, 0, 0, 0, 1, 0, 0, 1, 1, 0, 1, 1, 0, 1, 0, 1, 0, 0, 0, 1],\n",
       "      dtype=int64)"
      ]
     },
     "execution_count": 78,
     "metadata": {},
     "output_type": "execute_result"
    }
   ],
   "source": [
    "y_test.values"
   ]
  },
  {
   "cell_type": "code",
   "execution_count": 88,
   "id": "46e58f4f-293c-42e2-b22e-c29ff5d92587",
   "metadata": {},
   "outputs": [
    {
     "data": {
      "text/html": [
       "<div>\n",
       "<style scoped>\n",
       "    .dataframe tbody tr th:only-of-type {\n",
       "        vertical-align: middle;\n",
       "    }\n",
       "\n",
       "    .dataframe tbody tr th {\n",
       "        vertical-align: top;\n",
       "    }\n",
       "\n",
       "    .dataframe thead th {\n",
       "        text-align: right;\n",
       "    }\n",
       "</style>\n",
       "<table border=\"1\" class=\"dataframe\">\n",
       "  <thead>\n",
       "    <tr style=\"text-align: right;\">\n",
       "      <th></th>\n",
       "      <th>actual_class</th>\n",
       "      <th>predicted_class</th>\n",
       "    </tr>\n",
       "  </thead>\n",
       "  <tbody>\n",
       "    <tr>\n",
       "      <th>0</th>\n",
       "      <td>0</td>\n",
       "      <td>0</td>\n",
       "    </tr>\n",
       "    <tr>\n",
       "      <th>1</th>\n",
       "      <td>0</td>\n",
       "      <td>0</td>\n",
       "    </tr>\n",
       "    <tr>\n",
       "      <th>2</th>\n",
       "      <td>1</td>\n",
       "      <td>1</td>\n",
       "    </tr>\n",
       "    <tr>\n",
       "      <th>3</th>\n",
       "      <td>1</td>\n",
       "      <td>1</td>\n",
       "    </tr>\n",
       "    <tr>\n",
       "      <th>4</th>\n",
       "      <td>1</td>\n",
       "      <td>1</td>\n",
       "    </tr>\n",
       "    <tr>\n",
       "      <th>5</th>\n",
       "      <td>0</td>\n",
       "      <td>0</td>\n",
       "    </tr>\n",
       "    <tr>\n",
       "      <th>6</th>\n",
       "      <td>0</td>\n",
       "      <td>0</td>\n",
       "    </tr>\n",
       "    <tr>\n",
       "      <th>7</th>\n",
       "      <td>1</td>\n",
       "      <td>1</td>\n",
       "    </tr>\n",
       "    <tr>\n",
       "      <th>8</th>\n",
       "      <td>1</td>\n",
       "      <td>1</td>\n",
       "    </tr>\n",
       "    <tr>\n",
       "      <th>9</th>\n",
       "      <td>1</td>\n",
       "      <td>1</td>\n",
       "    </tr>\n",
       "    <tr>\n",
       "      <th>10</th>\n",
       "      <td>1</td>\n",
       "      <td>1</td>\n",
       "    </tr>\n",
       "    <tr>\n",
       "      <th>11</th>\n",
       "      <td>0</td>\n",
       "      <td>0</td>\n",
       "    </tr>\n",
       "    <tr>\n",
       "      <th>12</th>\n",
       "      <td>1</td>\n",
       "      <td>1</td>\n",
       "    </tr>\n",
       "    <tr>\n",
       "      <th>13</th>\n",
       "      <td>1</td>\n",
       "      <td>1</td>\n",
       "    </tr>\n",
       "    <tr>\n",
       "      <th>14</th>\n",
       "      <td>0</td>\n",
       "      <td>0</td>\n",
       "    </tr>\n",
       "    <tr>\n",
       "      <th>15</th>\n",
       "      <td>1</td>\n",
       "      <td>1</td>\n",
       "    </tr>\n",
       "    <tr>\n",
       "      <th>16</th>\n",
       "      <td>1</td>\n",
       "      <td>0</td>\n",
       "    </tr>\n",
       "    <tr>\n",
       "      <th>17</th>\n",
       "      <td>1</td>\n",
       "      <td>1</td>\n",
       "    </tr>\n",
       "    <tr>\n",
       "      <th>18</th>\n",
       "      <td>1</td>\n",
       "      <td>1</td>\n",
       "    </tr>\n",
       "    <tr>\n",
       "      <th>19</th>\n",
       "      <td>1</td>\n",
       "      <td>1</td>\n",
       "    </tr>\n",
       "    <tr>\n",
       "      <th>20</th>\n",
       "      <td>1</td>\n",
       "      <td>1</td>\n",
       "    </tr>\n",
       "    <tr>\n",
       "      <th>21</th>\n",
       "      <td>0</td>\n",
       "      <td>0</td>\n",
       "    </tr>\n",
       "    <tr>\n",
       "      <th>22</th>\n",
       "      <td>0</td>\n",
       "      <td>0</td>\n",
       "    </tr>\n",
       "    <tr>\n",
       "      <th>23</th>\n",
       "      <td>0</td>\n",
       "      <td>0</td>\n",
       "    </tr>\n",
       "    <tr>\n",
       "      <th>24</th>\n",
       "      <td>1</td>\n",
       "      <td>1</td>\n",
       "    </tr>\n",
       "    <tr>\n",
       "      <th>25</th>\n",
       "      <td>0</td>\n",
       "      <td>0</td>\n",
       "    </tr>\n",
       "    <tr>\n",
       "      <th>26</th>\n",
       "      <td>0</td>\n",
       "      <td>0</td>\n",
       "    </tr>\n",
       "    <tr>\n",
       "      <th>27</th>\n",
       "      <td>1</td>\n",
       "      <td>1</td>\n",
       "    </tr>\n",
       "    <tr>\n",
       "      <th>28</th>\n",
       "      <td>1</td>\n",
       "      <td>1</td>\n",
       "    </tr>\n",
       "    <tr>\n",
       "      <th>29</th>\n",
       "      <td>0</td>\n",
       "      <td>0</td>\n",
       "    </tr>\n",
       "    <tr>\n",
       "      <th>30</th>\n",
       "      <td>1</td>\n",
       "      <td>1</td>\n",
       "    </tr>\n",
       "    <tr>\n",
       "      <th>31</th>\n",
       "      <td>1</td>\n",
       "      <td>1</td>\n",
       "    </tr>\n",
       "    <tr>\n",
       "      <th>32</th>\n",
       "      <td>1</td>\n",
       "      <td>1</td>\n",
       "    </tr>\n",
       "    <tr>\n",
       "      <th>33</th>\n",
       "      <td>0</td>\n",
       "      <td>0</td>\n",
       "    </tr>\n",
       "    <tr>\n",
       "      <th>34</th>\n",
       "      <td>0</td>\n",
       "      <td>0</td>\n",
       "    </tr>\n",
       "    <tr>\n",
       "      <th>35</th>\n",
       "      <td>0</td>\n",
       "      <td>0</td>\n",
       "    </tr>\n",
       "    <tr>\n",
       "      <th>36</th>\n",
       "      <td>1</td>\n",
       "      <td>1</td>\n",
       "    </tr>\n",
       "    <tr>\n",
       "      <th>37</th>\n",
       "      <td>0</td>\n",
       "      <td>0</td>\n",
       "    </tr>\n",
       "    <tr>\n",
       "      <th>38</th>\n",
       "      <td>1</td>\n",
       "      <td>1</td>\n",
       "    </tr>\n",
       "    <tr>\n",
       "      <th>39</th>\n",
       "      <td>0</td>\n",
       "      <td>0</td>\n",
       "    </tr>\n",
       "  </tbody>\n",
       "</table>\n",
       "</div>"
      ],
      "text/plain": [
       "    actual_class  predicted_class\n",
       "0              0                0\n",
       "1              0                0\n",
       "2              1                1\n",
       "3              1                1\n",
       "4              1                1\n",
       "5              0                0\n",
       "6              0                0\n",
       "7              1                1\n",
       "8              1                1\n",
       "9              1                1\n",
       "10             1                1\n",
       "11             0                0\n",
       "12             1                1\n",
       "13             1                1\n",
       "14             0                0\n",
       "15             1                1\n",
       "16             1                0\n",
       "17             1                1\n",
       "18             1                1\n",
       "19             1                1\n",
       "20             1                1\n",
       "21             0                0\n",
       "22             0                0\n",
       "23             0                0\n",
       "24             1                1\n",
       "25             0                0\n",
       "26             0                0\n",
       "27             1                1\n",
       "28             1                1\n",
       "29             0                0\n",
       "30             1                1\n",
       "31             1                1\n",
       "32             1                1\n",
       "33             0                0\n",
       "34             0                0\n",
       "35             0                0\n",
       "36             1                1\n",
       "37             0                0\n",
       "38             1                1\n",
       "39             0                0"
      ]
     },
     "execution_count": 88,
     "metadata": {},
     "output_type": "execute_result"
    }
   ],
   "source": [
    "evaluation_df =  pd.DataFrame({\"actual_class\":y_test.values,\"predicted_class\":prediction})\n",
    "evaluation_df.head(40)"
   ]
  },
  {
   "cell_type": "code",
   "execution_count": 83,
   "id": "5f70be4c-2b3c-4354-a159-330d4e90a9a4",
   "metadata": {},
   "outputs": [],
   "source": [
    "evaluation_df['actual_class'] = evaluation_df['actual_class'].map({1:'spam',0:'ham'})\n",
    "evaluation_df['predicted_class'] = evaluation_df['predicted_class'].map({1:'spam',0:'ham'})\n"
   ]
  },
  {
   "cell_type": "code",
   "execution_count": 84,
   "id": "33bbff27-8e6e-4afd-add5-ba3febc0458c",
   "metadata": {},
   "outputs": [
    {
     "data": {
      "text/html": [
       "<div>\n",
       "<style scoped>\n",
       "    .dataframe tbody tr th:only-of-type {\n",
       "        vertical-align: middle;\n",
       "    }\n",
       "\n",
       "    .dataframe tbody tr th {\n",
       "        vertical-align: top;\n",
       "    }\n",
       "\n",
       "    .dataframe thead th {\n",
       "        text-align: right;\n",
       "    }\n",
       "</style>\n",
       "<table border=\"1\" class=\"dataframe\">\n",
       "  <thead>\n",
       "    <tr style=\"text-align: right;\">\n",
       "      <th></th>\n",
       "      <th>actual_class</th>\n",
       "      <th>predicted_class</th>\n",
       "    </tr>\n",
       "  </thead>\n",
       "  <tbody>\n",
       "    <tr>\n",
       "      <th>0</th>\n",
       "      <td>ham</td>\n",
       "      <td>ham</td>\n",
       "    </tr>\n",
       "    <tr>\n",
       "      <th>1</th>\n",
       "      <td>ham</td>\n",
       "      <td>ham</td>\n",
       "    </tr>\n",
       "    <tr>\n",
       "      <th>2</th>\n",
       "      <td>spam</td>\n",
       "      <td>spam</td>\n",
       "    </tr>\n",
       "    <tr>\n",
       "      <th>3</th>\n",
       "      <td>spam</td>\n",
       "      <td>spam</td>\n",
       "    </tr>\n",
       "    <tr>\n",
       "      <th>4</th>\n",
       "      <td>spam</td>\n",
       "      <td>spam</td>\n",
       "    </tr>\n",
       "    <tr>\n",
       "      <th>5</th>\n",
       "      <td>ham</td>\n",
       "      <td>ham</td>\n",
       "    </tr>\n",
       "    <tr>\n",
       "      <th>6</th>\n",
       "      <td>ham</td>\n",
       "      <td>ham</td>\n",
       "    </tr>\n",
       "    <tr>\n",
       "      <th>7</th>\n",
       "      <td>spam</td>\n",
       "      <td>spam</td>\n",
       "    </tr>\n",
       "    <tr>\n",
       "      <th>8</th>\n",
       "      <td>spam</td>\n",
       "      <td>spam</td>\n",
       "    </tr>\n",
       "    <tr>\n",
       "      <th>9</th>\n",
       "      <td>spam</td>\n",
       "      <td>spam</td>\n",
       "    </tr>\n",
       "    <tr>\n",
       "      <th>10</th>\n",
       "      <td>spam</td>\n",
       "      <td>spam</td>\n",
       "    </tr>\n",
       "    <tr>\n",
       "      <th>11</th>\n",
       "      <td>ham</td>\n",
       "      <td>ham</td>\n",
       "    </tr>\n",
       "    <tr>\n",
       "      <th>12</th>\n",
       "      <td>spam</td>\n",
       "      <td>spam</td>\n",
       "    </tr>\n",
       "    <tr>\n",
       "      <th>13</th>\n",
       "      <td>spam</td>\n",
       "      <td>spam</td>\n",
       "    </tr>\n",
       "    <tr>\n",
       "      <th>14</th>\n",
       "      <td>ham</td>\n",
       "      <td>ham</td>\n",
       "    </tr>\n",
       "    <tr>\n",
       "      <th>15</th>\n",
       "      <td>spam</td>\n",
       "      <td>spam</td>\n",
       "    </tr>\n",
       "    <tr>\n",
       "      <th>16</th>\n",
       "      <td>spam</td>\n",
       "      <td>ham</td>\n",
       "    </tr>\n",
       "    <tr>\n",
       "      <th>17</th>\n",
       "      <td>spam</td>\n",
       "      <td>spam</td>\n",
       "    </tr>\n",
       "    <tr>\n",
       "      <th>18</th>\n",
       "      <td>spam</td>\n",
       "      <td>spam</td>\n",
       "    </tr>\n",
       "    <tr>\n",
       "      <th>19</th>\n",
       "      <td>spam</td>\n",
       "      <td>spam</td>\n",
       "    </tr>\n",
       "    <tr>\n",
       "      <th>20</th>\n",
       "      <td>spam</td>\n",
       "      <td>spam</td>\n",
       "    </tr>\n",
       "    <tr>\n",
       "      <th>21</th>\n",
       "      <td>ham</td>\n",
       "      <td>ham</td>\n",
       "    </tr>\n",
       "    <tr>\n",
       "      <th>22</th>\n",
       "      <td>ham</td>\n",
       "      <td>ham</td>\n",
       "    </tr>\n",
       "    <tr>\n",
       "      <th>23</th>\n",
       "      <td>ham</td>\n",
       "      <td>ham</td>\n",
       "    </tr>\n",
       "    <tr>\n",
       "      <th>24</th>\n",
       "      <td>spam</td>\n",
       "      <td>spam</td>\n",
       "    </tr>\n",
       "    <tr>\n",
       "      <th>25</th>\n",
       "      <td>ham</td>\n",
       "      <td>ham</td>\n",
       "    </tr>\n",
       "    <tr>\n",
       "      <th>26</th>\n",
       "      <td>ham</td>\n",
       "      <td>ham</td>\n",
       "    </tr>\n",
       "    <tr>\n",
       "      <th>27</th>\n",
       "      <td>spam</td>\n",
       "      <td>spam</td>\n",
       "    </tr>\n",
       "    <tr>\n",
       "      <th>28</th>\n",
       "      <td>spam</td>\n",
       "      <td>spam</td>\n",
       "    </tr>\n",
       "    <tr>\n",
       "      <th>29</th>\n",
       "      <td>ham</td>\n",
       "      <td>ham</td>\n",
       "    </tr>\n",
       "    <tr>\n",
       "      <th>30</th>\n",
       "      <td>spam</td>\n",
       "      <td>spam</td>\n",
       "    </tr>\n",
       "    <tr>\n",
       "      <th>31</th>\n",
       "      <td>spam</td>\n",
       "      <td>spam</td>\n",
       "    </tr>\n",
       "    <tr>\n",
       "      <th>32</th>\n",
       "      <td>spam</td>\n",
       "      <td>spam</td>\n",
       "    </tr>\n",
       "    <tr>\n",
       "      <th>33</th>\n",
       "      <td>ham</td>\n",
       "      <td>ham</td>\n",
       "    </tr>\n",
       "    <tr>\n",
       "      <th>34</th>\n",
       "      <td>ham</td>\n",
       "      <td>ham</td>\n",
       "    </tr>\n",
       "    <tr>\n",
       "      <th>35</th>\n",
       "      <td>ham</td>\n",
       "      <td>ham</td>\n",
       "    </tr>\n",
       "    <tr>\n",
       "      <th>36</th>\n",
       "      <td>spam</td>\n",
       "      <td>spam</td>\n",
       "    </tr>\n",
       "    <tr>\n",
       "      <th>37</th>\n",
       "      <td>ham</td>\n",
       "      <td>ham</td>\n",
       "    </tr>\n",
       "    <tr>\n",
       "      <th>38</th>\n",
       "      <td>spam</td>\n",
       "      <td>spam</td>\n",
       "    </tr>\n",
       "    <tr>\n",
       "      <th>39</th>\n",
       "      <td>ham</td>\n",
       "      <td>ham</td>\n",
       "    </tr>\n",
       "  </tbody>\n",
       "</table>\n",
       "</div>"
      ],
      "text/plain": [
       "   actual_class predicted_class\n",
       "0           ham             ham\n",
       "1           ham             ham\n",
       "2          spam            spam\n",
       "3          spam            spam\n",
       "4          spam            spam\n",
       "5           ham             ham\n",
       "6           ham             ham\n",
       "7          spam            spam\n",
       "8          spam            spam\n",
       "9          spam            spam\n",
       "10         spam            spam\n",
       "11          ham             ham\n",
       "12         spam            spam\n",
       "13         spam            spam\n",
       "14          ham             ham\n",
       "15         spam            spam\n",
       "16         spam             ham\n",
       "17         spam            spam\n",
       "18         spam            spam\n",
       "19         spam            spam\n",
       "20         spam            spam\n",
       "21          ham             ham\n",
       "22          ham             ham\n",
       "23          ham             ham\n",
       "24         spam            spam\n",
       "25          ham             ham\n",
       "26          ham             ham\n",
       "27         spam            spam\n",
       "28         spam            spam\n",
       "29          ham             ham\n",
       "30         spam            spam\n",
       "31         spam            spam\n",
       "32         spam            spam\n",
       "33          ham             ham\n",
       "34          ham             ham\n",
       "35          ham             ham\n",
       "36         spam            spam\n",
       "37          ham             ham\n",
       "38         spam            spam\n",
       "39          ham             ham"
      ]
     },
     "execution_count": 84,
     "metadata": {},
     "output_type": "execute_result"
    }
   ],
   "source": [
    "evaluation_df.head(40)"
   ]
  },
  {
   "cell_type": "code",
   "execution_count": 86,
   "id": "dab3d095-1198-45f9-b66c-146ecf4b197d",
   "metadata": {},
   "outputs": [],
   "source": [
    "from sklearn.metrics import confusion_matrix , classification_report"
   ]
  },
  {
   "cell_type": "code",
   "execution_count": 93,
   "id": "a65c7030-bb0e-4618-8ea1-201fe65a3307",
   "metadata": {},
   "outputs": [
    {
     "data": {
      "text/plain": [
       "array([[137,   4],\n",
       "       [  9, 113]], dtype=int64)"
      ]
     },
     "execution_count": 93,
     "metadata": {},
     "output_type": "execute_result"
    }
   ],
   "source": [
    "matrix = confusion_matrix(evaluation_df['actual_class'],evaluation_df['predicted_class'])\n",
    "matrix "
   ]
  },
  {
   "cell_type": "code",
   "execution_count": 99,
   "id": "cabc9187-fb77-4764-b098-53892f94fd11",
   "metadata": {},
   "outputs": [],
   "source": [
    "import seaborn   as sns \n",
    "import matplotlib.pyplot as plt \n"
   ]
  },
  {
   "cell_type": "code",
   "execution_count": 111,
   "id": "1da6ab58-e28b-4124-8c23-d24c9c2c4a6a",
   "metadata": {},
   "outputs": [
    {
     "data": {
      "image/png": "[encoded data removed]",
      "text/plain": [
       "<Figure size 640x480 with 2 Axes>"
      ]
     },
     "metadata": {},
     "output_type": "display_data"
    }
   ],
   "source": [
    "sns.heatmap(matrix,annot=True,fmt='d') \n",
    "plt.title('Confusion matrix')\n",
    "plt.axis('off')\n",
    "plt.show()"
   ]
  },
  {
   "cell_type": "code",
   "execution_count": 101,
   "id": "27f63c19-393c-4b38-bc41-a6e92a8cfae9",
   "metadata": {},
   "outputs": [
    {
     "name": "stdout",
     "output_type": "stream",
     "text": [
      "              precision    recall  f1-score   support\n",
      "\n",
      "           0       0.94      0.97      0.95       141\n",
      "           1       0.97      0.93      0.95       122\n",
      "\n",
      "    accuracy                           0.95       263\n",
      "   macro avg       0.95      0.95      0.95       263\n",
      "weighted avg       0.95      0.95      0.95       263\n",
      "\n"
     ]
    }
   ],
   "source": [
    "print(classification_report(evaluation_df['actual_class'],evaluation_df['predicted_class']))"
   ]
  },
  {
   "cell_type": "code",
   "execution_count": 109,
   "id": "50c677ad-cf9c-4603-8405-5c328ad29a30",
   "metadata": {},
   "outputs": [
    {
     "name": "stdout",
     "output_type": "stream",
     "text": [
      "Your object is saved!\n"
     ]
    }
   ],
   "source": [
    "## Models save  \n",
    "import joblib , os \n",
    "os.makedirs('models',exist_ok=True)\n",
    "\n",
    "joblib.dump(mnb,'./models/multinomialnaivebayes.lb')\n",
    "joblib.dump(bnb,'./models/bernolinaivebayes.lb')\n",
    "joblib.dump(bow_obj,'./models/countvectorizer.lb')\n",
    "print(\"Your object is saved!\")\n",
    " "
   ]
  },
  {
   "cell_type": "code",
   "execution_count": null,
   "id": "2f39de3e-a101-43d8-8cf2-bd7343ca1179",
   "metadata": {},
   "outputs": [],
   "source": []
  },
  {
   "cell_type": "code",
   "execution_count": null,
   "id": "1806e92d-61ba-453d-893d-b7d1774da51c",
   "metadata": {},
   "outputs": [],
   "source": []
  },
  {
   "cell_type": "code",
   "execution_count": null,
   "id": "34e3a883-1c93-4988-ac48-e99abe7ad9a5",
   "metadata": {},
   "outputs": [],
   "source": []
  },
  {
   "cell_type": "code",
   "execution_count": null,
   "id": "1695b09b-83fc-4fc3-8950-09881885b071",
   "metadata": {},
   "outputs": [],
   "source": []
  },
  {
   "cell_type": "code",
   "execution_count": null,
   "id": "e5a8ccb7-76b7-4862-92b7-ef91832b1643",
   "metadata": {},
   "outputs": [],
   "source": []
  },
  {
   "cell_type": "code",
   "execution_count": null,
   "id": "7160391f-f345-4f45-b9a7-131d07048aa6",
   "metadata": {},
   "outputs": [],
   "source": []
  }
 ],
 "metadata": {
  "kernelspec": {
   "display_name": "Python 3 (ipykernel)",
   "language": "python",
   "name": "python3"
  },
  "language_info": {
   "codemirror_mode": {
    "name": "ipython",
    "version": 3
   },
   "file_extension": ".py",
   "mimetype": "text/x-python",
   "name": "python",
   "nbconvert_exporter": "python",
   "pygments_lexer": "ipython3",
   "version": "3.12.4"
  }
 },
 "nbformat": 4,
 "nbformat_minor": 5
}
