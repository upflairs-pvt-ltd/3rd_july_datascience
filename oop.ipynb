{
 "cells": [
  {
   "cell_type": "markdown",
   "metadata": {},
   "source": [
    "### Object oriented programing "
   ]
  },
  {
   "cell_type": "code",
   "execution_count": 1,
   "metadata": {},
   "outputs": [],
   "source": [
    "class College:\n",
    "    # properties  inside the class\n",
    "    college_name = \"Poornima institue of engineering\"\n",
    "    college_city = 'jaipur'\n",
    "    "
   ]
  },
  {
   "cell_type": "code",
   "execution_count": 5,
   "metadata": {},
   "outputs": [],
   "source": [
    "# object or instance creation \n",
    "obj1 = College()\n",
    "obj2 = College()\n",
    "obj3 = College()\n"
   ]
  },
  {
   "cell_type": "code",
   "execution_count": 8,
   "metadata": {},
   "outputs": [
    {
     "name": "stdout",
     "output_type": "stream",
     "text": [
      "Poornima institue of engineering\n"
     ]
    }
   ],
   "source": [
    "print(obj3.college_name)"
   ]
  },
  {
   "cell_type": "code",
   "execution_count": 10,
   "metadata": {},
   "outputs": [],
   "source": [
    "obj1.college_name = \"Institute of engineering agra\""
   ]
  },
  {
   "cell_type": "code",
   "execution_count": 11,
   "metadata": {},
   "outputs": [
    {
     "name": "stdout",
     "output_type": "stream",
     "text": [
      "Institute of engineering agra\n"
     ]
    }
   ],
   "source": [
    "print(obj1.college_name)"
   ]
  },
  {
   "cell_type": "code",
   "execution_count": 12,
   "metadata": {},
   "outputs": [
    {
     "name": "stdout",
     "output_type": "stream",
     "text": [
      "Poornima institue of engineering\n"
     ]
    }
   ],
   "source": [
    "print(obj2.college_name)\n"
   ]
  },
  {
   "cell_type": "code",
   "execution_count": 63,
   "metadata": {
    "scrolled": true
   },
   "outputs": [],
   "source": [
    "class College:\n",
    "    # properties  inside the class\n",
    "    # class variables \n",
    "    college_name = \"Poornima institue of engineering\"\n",
    "    college_city = 'jaipur' \n",
    "\n",
    "    # instance variable constructor \n",
    "# it is kind of special function, and which used to initialized the variables \n",
    "    # you will not be need to call the constructor,\n",
    "    # constructor executes automaticaly when you will create an object. \n",
    "    \n",
    "    def __init__(self,cse_hod,ece_hod,e_hod): \n",
    "        # instance variables\n",
    "        self.college_cse_hod = cse_hod\n",
    "        self.college_ece_hod = ece_hod\n",
    "        self.college_electrical_hod = e_hod\n",
    "        self.student_marks = [25,35,45,41,42,47,49,38,39,29,46,47]\n",
    "        self.random_number = [52,14,25,36,96,85,74,47,58,69,25,6,45,63,67,81,9,1,7,1,2,13,1,45,44]\n",
    "        print(\"Constructor called !\")\n",
    "\n",
    "# self -- > pointer  \n",
    "    \n",
    "    def display(self): \n",
    "        print(\"My college name : \",self.college_name)\n",
    "        print(\"My CSE HOD : \",self.college_cse_hod)\n",
    "        print(\"My college city : \",self.college_city)\n",
    "\n",
    "\n",
    "\n",
    "    def average_marks(self):\n",
    "        marks = self.student_marks\n",
    "        totat_sum = 0 \n",
    "        count = 0 \n",
    "        for item in marks: \n",
    "            totat_sum += item\n",
    "            count += 1\n",
    "        print(totat_sum/count)\n",
    "\n",
    "\n"
   ]
  },
  {
   "cell_type": "code",
   "execution_count": 64,
   "metadata": {},
   "outputs": [
    {
     "name": "stdout",
     "output_type": "stream",
     "text": [
      "Constructor called !\n",
      "Constructor called !\n"
     ]
    }
   ],
   "source": [
    "# College.college_cse_hod\n",
    "obj1 = College(cse_hod=\"Manoj sharma\",ece_hod='uday pratap',e_hod='rahul trivedi') \n",
    "obj2 = College(cse_hod=\"Harish sharma\",ece_hod='abhishek pratap',e_hod='hariom trivedi') \n"
   ]
  },
  {
   "cell_type": "code",
   "execution_count": 65,
   "metadata": {},
   "outputs": [
    {
     "name": "stdout",
     "output_type": "stream",
     "text": [
      "40.25\n"
     ]
    }
   ],
   "source": [
    "obj1.average_marks()"
   ]
  },
  {
   "cell_type": "code",
   "execution_count": 55,
   "metadata": {},
   "outputs": [
    {
     "data": {
      "text/plain": [
       "[25, 35, 45, 41, 42, 47, 49, 38, 39, 29, 46, 47]"
      ]
     },
     "execution_count": 55,
     "metadata": {},
     "output_type": "execute_result"
    }
   ],
   "source": [
    "obj1.student_marks"
   ]
  },
  {
   "cell_type": "code",
   "execution_count": 40,
   "metadata": {},
   "outputs": [
    {
     "data": {
      "text/plain": [
       "'uday pratap'"
      ]
     },
     "execution_count": 40,
     "metadata": {},
     "output_type": "execute_result"
    }
   ],
   "source": [
    "obj.college_ece_hod\n",
    "#object.variable_name"
   ]
  },
  {
   "cell_type": "code",
   "execution_count": 47,
   "metadata": {},
   "outputs": [
    {
     "name": "stdout",
     "output_type": "stream",
     "text": [
      "My college name :  Poornima institue of engineering\n",
      "My CSE HOD :  Manoj sharma\n",
      "My college city :  jaipur\n"
     ]
    }
   ],
   "source": [
    "obj1.display()"
   ]
  },
  {
   "cell_type": "code",
   "execution_count": 50,
   "metadata": {},
   "outputs": [
    {
     "name": "stdout",
     "output_type": "stream",
     "text": [
      "My college name :  Poornima institue of engineering\n",
      "My CSE HOD :  Harish sharma\n",
      "My college city :  jaipur\n"
     ]
    }
   ],
   "source": [
    "obj2.display()\n"
   ]
  },
  {
   "cell_type": "code",
   "execution_count": null,
   "metadata": {},
   "outputs": [],
   "source": []
  },
  {
   "cell_type": "code",
   "execution_count": 61,
   "metadata": {},
   "outputs": [],
   "source": [
    "marks = [25,35,45,41,42,47,49,38,39,29,46,47]\n",
    "marks \n",
    "def average_finder():\n",
    "    totat_sum = 0 \n",
    "    count = 0 \n",
    "    for item in marks: \n",
    "        totat_sum += item\n",
    "        count += 1\n",
    "    print(totat_sum/count)\n",
    "        "
   ]
  },
  {
   "cell_type": "code",
   "execution_count": 62,
   "metadata": {},
   "outputs": [
    {
     "name": "stdout",
     "output_type": "stream",
     "text": [
      "40.25\n"
     ]
    }
   ],
   "source": [
    "average_finder()"
   ]
  },
  {
   "cell_type": "code",
   "execution_count": null,
   "metadata": {},
   "outputs": [],
   "source": [
    "class Hello: \n",
    "    def __init__(self):\n",
    "        self.random_number = [52,14,25,36,96,85,74,47,58,69,25,6,45,63,67,81,9,1,7,1,2,13,1,45,44]\n",
    "\n",
    "    # method  even no and odd no. count \n",
    "    def even_odd_counter(self):\n",
    "        pass \n",
    "\n",
    "    def even_average_finder(self): \n",
    "        pass \n",
    "\n",
    "    def target_finder(self,item): \n",
    "        \n",
    "        "
   ]
  },
  {
   "cell_type": "code",
   "execution_count": 68,
   "metadata": {},
   "outputs": [
    {
     "data": {
      "text/plain": [
       "False"
      ]
     },
     "execution_count": 68,
     "metadata": {},
     "output_type": "execute_result"
    }
   ],
   "source": [
    "75 % 2 == 0 "
   ]
  }
 ],
 "metadata": {
  "kernelspec": {
   "display_name": "Python 3 (ipykernel)",
   "language": "python",
   "name": "python3"
  },
  "language_info": {
   "codemirror_mode": {
    "name": "ipython",
    "version": 3
   },
   "file_extension": ".py",
   "mimetype": "text/x-python",
   "name": "python",
   "nbconvert_exporter": "python",
   "pygments_lexer": "ipython3",
   "version": "3.11.5"
  }
 },
 "nbformat": 4,
 "nbformat_minor": 4
}
