{
 "cells": [
  {
   "cell_type": "code",
   "execution_count": 80,
   "id": "30b3a44b-108a-4e2b-bca0-3421b51d1e39",
   "metadata": {},
   "outputs": [],
   "source": [
    "import numpy as np \n",
    "import pandas as pd \n",
    "import matplotlib.pyplot as plt \n",
    "import seaborn as sns  \n",
    "import re \n",
    "import nltk \n",
    "from nltk.corpus import stopwords\n",
    "from nltk.stem import PorterStemmer , WordNetLemmatizer\n",
    "from tensorflow.keras.preprocessing.text import Tokenizer \n",
    "from tensorflow.keras.utils import pad_sequences   # to equalize the length of sentences \n",
    "from sklearn.model_selection import train_test_split\n",
    "from tensorflow.keras.models import Sequential \n",
    "from tensorflow.keras.layers import Dense, LSTM\n",
    "# PorterStemmer  ==> stemming  \n",
    "# WordNetLemmatizer  ==> lemmataization "
   ]
  },
  {
   "cell_type": "code",
   "execution_count": 23,
   "id": "0e5caee7-42c8-482e-bf73-eaf890c8d2a6",
   "metadata": {},
   "outputs": [],
   "source": [
    "train_data = open('./Data/train.txt').readlines() \n",
    "val_data = open('./Data/val.txt').readlines() \n",
    "test_data = open('./Data/test.txt').readlines() \n"
   ]
  },
  {
   "cell_type": "code",
   "execution_count": 24,
   "id": "0da04e1c-fb3a-468a-a316-474f452d7bd1",
   "metadata": {},
   "outputs": [
    {
     "data": {
      "text/plain": [
       "(16000, 2000, 2000)"
      ]
     },
     "execution_count": 24,
     "metadata": {},
     "output_type": "execute_result"
    }
   ],
   "source": [
    "len(train_data) , len(val_data)  , len(test_data)"
   ]
  },
  {
   "cell_type": "code",
   "execution_count": 25,
   "id": "a0f5d7b3-4959-469f-982b-08e267e16ca2",
   "metadata": {},
   "outputs": [
    {
     "data": {
      "text/plain": [
       "20000"
      ]
     },
     "execution_count": 25,
     "metadata": {},
     "output_type": "execute_result"
    }
   ],
   "source": [
    "full_data = train_data + test_data + val_data \n",
    "len(full_data)"
   ]
  },
  {
   "cell_type": "code",
   "execution_count": 26,
   "id": "d981c627-5a92-430f-af7b-4c205656ffeb",
   "metadata": {},
   "outputs": [],
   "source": [
    "x = []\n",
    "y = []\n",
    "\n",
    "for line in full_data:\n",
    "    text, label = line.strip().split(';')\n",
    "    x.append(text)\n",
    "    y.append(label)"
   ]
  },
  {
   "cell_type": "code",
   "execution_count": 27,
   "id": "fe8a36e4-6c00-4e2e-a98e-6bf8d6eeb118",
   "metadata": {},
   "outputs": [
    {
     "data": {
      "text/plain": [
       "(20000, 20000)"
      ]
     },
     "execution_count": 27,
     "metadata": {},
     "output_type": "execute_result"
    }
   ],
   "source": [
    "len(x) , len(y)  "
   ]
  },
  {
   "cell_type": "code",
   "execution_count": 28,
   "id": "206c459d-4b42-4b91-b544-00094f45ccb8",
   "metadata": {},
   "outputs": [
    {
     "data": {
      "text/plain": [
       "['joy', 'surprise', 'fear', 'anger', 'sadness', 'love']"
      ]
     },
     "execution_count": 28,
     "metadata": {},
     "output_type": "execute_result"
    }
   ],
   "source": [
    "labels = list(set(y))\n",
    "labels"
   ]
  },
  {
   "cell_type": "code",
   "execution_count": 29,
   "id": "b16916c8-321b-4327-b81c-43aa1caaee34",
   "metadata": {},
   "outputs": [
    {
     "data": {
      "text/html": [
       "<div>\n",
       "<style scoped>\n",
       "    .dataframe tbody tr th:only-of-type {\n",
       "        vertical-align: middle;\n",
       "    }\n",
       "\n",
       "    .dataframe tbody tr th {\n",
       "        vertical-align: top;\n",
       "    }\n",
       "\n",
       "    .dataframe thead th {\n",
       "        text-align: right;\n",
       "    }\n",
       "</style>\n",
       "<table border=\"1\" class=\"dataframe\">\n",
       "  <thead>\n",
       "    <tr style=\"text-align: right;\">\n",
       "      <th></th>\n",
       "      <th>message</th>\n",
       "      <th>label</th>\n",
       "    </tr>\n",
       "  </thead>\n",
       "  <tbody>\n",
       "    <tr>\n",
       "      <th>0</th>\n",
       "      <td>i didnt feel humiliated</td>\n",
       "      <td>sadness</td>\n",
       "    </tr>\n",
       "    <tr>\n",
       "      <th>1</th>\n",
       "      <td>i can go from feeling so hopeless to so damned...</td>\n",
       "      <td>sadness</td>\n",
       "    </tr>\n",
       "    <tr>\n",
       "      <th>2</th>\n",
       "      <td>im grabbing a minute to post i feel greedy wrong</td>\n",
       "      <td>anger</td>\n",
       "    </tr>\n",
       "    <tr>\n",
       "      <th>3</th>\n",
       "      <td>i am ever feeling nostalgic about the fireplac...</td>\n",
       "      <td>love</td>\n",
       "    </tr>\n",
       "    <tr>\n",
       "      <th>4</th>\n",
       "      <td>i am feeling grouchy</td>\n",
       "      <td>anger</td>\n",
       "    </tr>\n",
       "  </tbody>\n",
       "</table>\n",
       "</div>"
      ],
      "text/plain": [
       "                                             message    label\n",
       "0                            i didnt feel humiliated  sadness\n",
       "1  i can go from feeling so hopeless to so damned...  sadness\n",
       "2   im grabbing a minute to post i feel greedy wrong    anger\n",
       "3  i am ever feeling nostalgic about the fireplac...     love\n",
       "4                               i am feeling grouchy    anger"
      ]
     },
     "execution_count": 29,
     "metadata": {},
     "output_type": "execute_result"
    }
   ],
   "source": [
    "df = pd.DataFrame({'message':x,'label':y})\n",
    "df.head()"
   ]
  },
  {
   "cell_type": "code",
   "execution_count": 30,
   "id": "946874e3-fdb5-45d6-a226-f3ee17e69928",
   "metadata": {},
   "outputs": [
    {
     "data": {
      "text/plain": [
       "label\n",
       "joy         6761\n",
       "sadness     5797\n",
       "anger       2709\n",
       "fear        2373\n",
       "love        1641\n",
       "surprise     719\n",
       "Name: count, dtype: int64"
      ]
     },
     "execution_count": 30,
     "metadata": {},
     "output_type": "execute_result"
    }
   ],
   "source": [
    "### bar plot and pie plot  \n",
    "df['label'].value_counts()"
   ]
  },
  {
   "cell_type": "code",
   "execution_count": 31,
   "id": "f71f7bd1-05a3-4970-a8a2-f52a4e38cf0d",
   "metadata": {},
   "outputs": [
    {
     "data": {
      "image/png": "[encoded data removed]",
      "text/plain": [
       "<Figure size 1000x600 with 1 Axes>"
      ]
     },
     "metadata": {},
     "output_type": "display_data"
    }
   ],
   "source": [
    "counts = df['label'].value_counts()\n",
    "\n",
    "plt.figure(figsize=(10, 6))\n",
    "sns.barplot(x=counts.index, y=counts.values)\n",
    "plt.show()"
   ]
  },
  {
   "cell_type": "code",
   "execution_count": 32,
   "id": "51f0c2a7-4e4e-4927-abb2-1576c41689c0",
   "metadata": {},
   "outputs": [
    {
     "data": {
      "image/png": "[encoded data removed]",
      "text/plain": [
       "<Figure size 800x800 with 1 Axes>"
      ]
     },
     "metadata": {},
     "output_type": "display_data"
    }
   ],
   "source": [
    "label_counts = df['label'].value_counts()\n",
    "plt.figure(figsize=(8, 8))\n",
    "plt.pie(label_counts, labels=label_counts.index, autopct='%2.1f%%', colors=sns.color_palette('viridis', len(label_counts)))\n",
    "plt.title('Pie Chart of Label Distribution')\n",
    "plt.show()"
   ]
  },
  {
   "cell_type": "code",
   "execution_count": 33,
   "id": "5ce3345f-bed6-44e9-afb3-f6a0719ce754",
   "metadata": {},
   "outputs": [],
   "source": [
    "### wordcloud \n",
    "# install 2 line code wordcloud  \n"
   ]
  },
  {
   "cell_type": "code",
   "execution_count": 34,
   "id": "a1f06c06-1355-496e-8d44-b80227f21f61",
   "metadata": {},
   "outputs": [],
   "source": [
    "## text cleaning function \n",
    "def text_cleaning(messages,stemming):\n",
    "    clean_data = []\n",
    "    for message in messages: \n",
    "        message = message.lower()\n",
    "        ls_of_words = nltk.word_tokenize(message)  # \n",
    "        word_without_stop_words = [word for word in ls_of_words if word not in stopwords.words('english')]\n",
    "        ls_of_stemmed_words = [stemming.stem(word) for word in word_without_stop_words]\n",
    "        clean_message = \" \".join(ls_of_stemmed_words) \n",
    "        clean_data.append(clean_message)\n",
    "    return clean_data \n",
    "\n",
    "stemming =  PorterStemmer()\n",
    "clean_data = text_cleaning(messages=x,stemming=stemming)  # calling "
   ]
  },
  {
   "cell_type": "code",
   "execution_count": 36,
   "id": "7a12e77d-5771-4c3b-afea-9f8a375a153a",
   "metadata": {},
   "outputs": [
    {
     "data": {
      "text/plain": [
       "['./clean_data/clean_text.lb']"
      ]
     },
     "execution_count": 36,
     "metadata": {},
     "output_type": "execute_result"
    }
   ],
   "source": [
    "import os, joblib \n",
    "os.makedirs('clean_data',exist_ok=True) \n",
    "joblib.dump(clean_data,\"./clean_data/clean_text.lb\")"
   ]
  },
  {
   "cell_type": "code",
   "execution_count": 35,
   "id": "893d7bd6-c44d-4781-a1de-d10b882682c6",
   "metadata": {},
   "outputs": [
    {
     "name": "stdout",
     "output_type": "stream",
     "text": [
      "['go', 'feeling', 'hopeless', 'damned', 'hopeful', 'around', 'someone', 'cares', 'awake']\n",
      "['go', 'feel', 'hopeless', 'damn', 'hope', 'around', 'someon', 'care', 'awak']\n"
     ]
    },
    {
     "data": {
      "text/plain": [
       "'go feel hopeless damn hope around someon care awak'"
      ]
     },
     "execution_count": 35,
     "metadata": {},
     "output_type": "execute_result"
    }
   ],
   "source": [
    "## single message \n",
    "message = x[1]\n",
    "message = message.lower()\n",
    "# message.split()\n",
    "\n",
    "ls_of_words = nltk.word_tokenize(message)  # message.split()   \n",
    "\n",
    "word_without_stop_words = [word for word in ls_of_words if word not in stopwords.words('english')]\n",
    "stemming = PorterStemmer()\n",
    "print(word_without_stop_words)\n",
    "stemmed_words = [ ]\n",
    "for word in word_without_stop_words: \n",
    "    stemmed_words.append(stemming.stem(word)) \n",
    "print(stemmed_words)\n",
    "\" \".join(stemmed_words) "
   ]
  },
  {
   "cell_type": "code",
   "execution_count": 43,
   "id": "406eb7b4-3c3f-4162-b888-d44de139c9c2",
   "metadata": {},
   "outputs": [],
   "source": [
    "### text to numerical representation \n",
    "tokenizer = Tokenizer(oov_token='<nothing>') \n",
    "tokenizer.fit_on_texts(clean_data)"
   ]
  },
  {
   "cell_type": "code",
   "execution_count": 40,
   "id": "9c4c2ac8-4a0c-4214-b94d-889806f7e4d7",
   "metadata": {},
   "outputs": [
    {
     "data": {
      "text/plain": [
       "20000"
      ]
     },
     "execution_count": 40,
     "metadata": {},
     "output_type": "execute_result"
    }
   ],
   "source": [
    "len(clean_data)"
   ]
  },
  {
   "cell_type": "code",
   "execution_count": 41,
   "id": "746eb359-1b1d-450d-9554-d92042790970",
   "metadata": {},
   "outputs": [
    {
     "data": {
      "text/plain": [
       "'didnt feel humili'"
      ]
     },
     "execution_count": 41,
     "metadata": {},
     "output_type": "execute_result"
    }
   ],
   "source": [
    "clean_data[0]"
   ]
  },
  {
   "cell_type": "code",
   "execution_count": 46,
   "id": "3c060ca1-5737-4f29-bd0b-b18359cde00b",
   "metadata": {},
   "outputs": [],
   "source": [
    "# tokenizer.word_index"
   ]
  },
  {
   "cell_type": "code",
   "execution_count": 47,
   "id": "f6cf5aa9-e8e3-466e-8ce8-c4d74ae6b32a",
   "metadata": {},
   "outputs": [],
   "source": [
    "sequence = tokenizer.texts_to_sequences(clean_data)"
   ]
  },
  {
   "cell_type": "code",
   "execution_count": 50,
   "id": "0a2e63e1-3de4-4d31-939a-eb6447425e23",
   "metadata": {},
   "outputs": [
    {
     "data": {
      "text/plain": [
       "[61, 2, 522]"
      ]
     },
     "execution_count": 50,
     "metadata": {},
     "output_type": "execute_result"
    }
   ],
   "source": [
    "# tokenizer.word_index \n",
    "sequence[0]"
   ]
  },
  {
   "cell_type": "code",
   "execution_count": 51,
   "id": "b974c217-2986-4962-b245-f3186ea317c9",
   "metadata": {},
   "outputs": [
    {
     "data": {
      "text/plain": [
       "20000"
      ]
     },
     "execution_count": 51,
     "metadata": {},
     "output_type": "execute_result"
    }
   ],
   "source": [
    "len(sequence)"
   ]
  },
  {
   "cell_type": "code",
   "execution_count": 59,
   "id": "ed8daf9d-6fd2-44f1-9b19-ca7f7a9c0a6a",
   "metadata": {},
   "outputs": [
    {
     "data": {
      "text/plain": [
       "[[61, 2, 522],\n",
       " [10, 2, 419, 682, 67, 50, 60, 96, 1229],\n",
       " [4, 1230, 431, 107, 2, 432, 192],\n",
       " [92, 2, 592, 3696, 7, 21, 2844],\n",
       " [2, 918]]"
      ]
     },
     "execution_count": 59,
     "metadata": {},
     "output_type": "execute_result"
    }
   ],
   "source": [
    "sequence[0:5]"
   ]
  },
  {
   "cell_type": "code",
   "execution_count": 57,
   "id": "6fee18a8-d699-44a5-9958-8897335b184b",
   "metadata": {},
   "outputs": [],
   "source": [
    " ## x data ready \n",
    "sequences = pad_sequences(sequence,padding='post' , maxlen= max(list(map(len,sequence))))"
   ]
  },
  {
   "cell_type": "code",
   "execution_count": 66,
   "id": "efb1d8b1-364f-432c-9aa1-e6e715341edb",
   "metadata": {},
   "outputs": [
    {
     "data": {
      "text/plain": [
       "['joy', 'surprise', 'fear', 'anger', 'sadness', 'love']"
      ]
     },
     "execution_count": 66,
     "metadata": {},
     "output_type": "execute_result"
    }
   ],
   "source": [
    "labels = list(set(y))\n",
    "labels"
   ]
  },
  {
   "cell_type": "code",
   "execution_count": 70,
   "id": "b8d39981-3f83-4320-b88b-4cc2c12d4a09",
   "metadata": {},
   "outputs": [
    {
     "data": {
      "text/plain": [
       "{'joy': 0, 'surprise': 1, 'fear': 2, 'anger': 3, 'sadness': 4, 'love': 5}"
      ]
     },
     "execution_count": 70,
     "metadata": {},
     "output_type": "execute_result"
    }
   ],
   "source": [
    "label_dict = {label:i for i, label in enumerate(labels)} \n",
    "label_dict"
   ]
  },
  {
   "cell_type": "code",
   "execution_count": 74,
   "id": "7d52990c-cd8e-42c2-9539-e3b5926139dc",
   "metadata": {},
   "outputs": [],
   "source": [
    "y_labeled = []\n",
    "for label in y: \n",
    "    y_labeled.append(label_dict[label])\n",
    "\n",
    "labels = np.array(y_labeled)"
   ]
  },
  {
   "cell_type": "code",
   "execution_count": 75,
   "id": "ef7d66c0-709f-46f1-b976-a8dcddd19e7f",
   "metadata": {},
   "outputs": [
    {
     "data": {
      "text/plain": [
       "array([4, 4, 3, ..., 0, 0, 0])"
      ]
     },
     "execution_count": 75,
     "metadata": {},
     "output_type": "execute_result"
    }
   ],
   "source": [
    "labels "
   ]
  },
  {
   "cell_type": "code",
   "execution_count": 90,
   "id": "4271ceaa-bd38-4484-9188-d729baf45be6",
   "metadata": {},
   "outputs": [],
   "source": [
    "# sequences  ==>  X DATA   \n",
    "# labels     ==>  Y DATA   \n",
    "#  training testing splitting  \n",
    "x_train,x_test,y_train,y_test = train_test_split(sequences,labels,test_size=0.16)"
   ]
  },
  {
   "cell_type": "code",
   "execution_count": 86,
   "id": "c6267bfd-a74a-4b2e-b9f6-41588f234e91",
   "metadata": {},
   "outputs": [
    {
     "data": {
      "text/html": [
       "<pre style=\"white-space:pre;overflow-x:auto;line-height:normal;font-family:Menlo,'DejaVu Sans Mono',consolas,'Courier New',monospace\"><span style=\"font-weight: bold\">Model: \"sequential_1\"</span>\n",
       "</pre>\n"
      ],
      "text/plain": [
       "\u001b[1mModel: \"sequential_1\"\u001b[0m\n"
      ]
     },
     "metadata": {},
     "output_type": "display_data"
    },
    {
     "data": {
      "text/html": [
       "<pre style=\"white-space:pre;overflow-x:auto;line-height:normal;font-family:Menlo,'DejaVu Sans Mono',consolas,'Courier New',monospace\">┏━━━━━━━━━━━━━━━━━━━━━━━━━━━━━━━━┳━━━━━━━━━━━━━━━━━━━━━━━━┳━━━━━━━━━━━━━━┓\n",
       "┃<span style=\"font-weight: bold\"> Layer (type)                   </span>┃<span style=\"font-weight: bold\"> Output Shape           </span>┃<span style=\"font-weight: bold\">      Param # </span>┃\n",
       "┡━━━━━━━━━━━━━━━━━━━━━━━━━━━━━━━━╇━━━━━━━━━━━━━━━━━━━━━━━━╇━━━━━━━━━━━━━━┩\n",
       "│ lstm_6 (<span style=\"color: #0087ff; text-decoration-color: #0087ff\">LSTM</span>)                  │ (<span style=\"color: #00d7ff; text-decoration-color: #00d7ff\">None</span>, <span style=\"color: #00af00; text-decoration-color: #00af00\">35</span>, <span style=\"color: #00af00; text-decoration-color: #00af00\">64</span>)         │       <span style=\"color: #00af00; text-decoration-color: #00af00\">16,896</span> │\n",
       "├────────────────────────────────┼────────────────────────┼──────────────┤\n",
       "│ lstm_7 (<span style=\"color: #0087ff; text-decoration-color: #0087ff\">LSTM</span>)                  │ (<span style=\"color: #00d7ff; text-decoration-color: #00d7ff\">None</span>, <span style=\"color: #00af00; text-decoration-color: #00af00\">32</span>)             │       <span style=\"color: #00af00; text-decoration-color: #00af00\">12,416</span> │\n",
       "├────────────────────────────────┼────────────────────────┼──────────────┤\n",
       "│ dense_3 (<span style=\"color: #0087ff; text-decoration-color: #0087ff\">Dense</span>)                │ (<span style=\"color: #00d7ff; text-decoration-color: #00d7ff\">None</span>, <span style=\"color: #00af00; text-decoration-color: #00af00\">6</span>)              │          <span style=\"color: #00af00; text-decoration-color: #00af00\">198</span> │\n",
       "└────────────────────────────────┴────────────────────────┴──────────────┘\n",
       "</pre>\n"
      ],
      "text/plain": [
       "┏━━━━━━━━━━━━━━━━━━━━━━━━━━━━━━━━┳━━━━━━━━━━━━━━━━━━━━━━━━┳━━━━━━━━━━━━━━┓\n",
       "┃\u001b[1m \u001b[0m\u001b[1mLayer (type)                  \u001b[0m\u001b[1m \u001b[0m┃\u001b[1m \u001b[0m\u001b[1mOutput Shape          \u001b[0m\u001b[1m \u001b[0m┃\u001b[1m \u001b[0m\u001b[1m     Param #\u001b[0m\u001b[1m \u001b[0m┃\n",
       "┡━━━━━━━━━━━━━━━━━━━━━━━━━━━━━━━━╇━━━━━━━━━━━━━━━━━━━━━━━━╇━━━━━━━━━━━━━━┩\n",
       "│ lstm_6 (\u001b[38;5;33mLSTM\u001b[0m)                  │ (\u001b[38;5;45mNone\u001b[0m, \u001b[38;5;34m35\u001b[0m, \u001b[38;5;34m64\u001b[0m)         │       \u001b[38;5;34m16,896\u001b[0m │\n",
       "├────────────────────────────────┼────────────────────────┼──────────────┤\n",
       "│ lstm_7 (\u001b[38;5;33mLSTM\u001b[0m)                  │ (\u001b[38;5;45mNone\u001b[0m, \u001b[38;5;34m32\u001b[0m)             │       \u001b[38;5;34m12,416\u001b[0m │\n",
       "├────────────────────────────────┼────────────────────────┼──────────────┤\n",
       "│ dense_3 (\u001b[38;5;33mDense\u001b[0m)                │ (\u001b[38;5;45mNone\u001b[0m, \u001b[38;5;34m6\u001b[0m)              │          \u001b[38;5;34m198\u001b[0m │\n",
       "└────────────────────────────────┴────────────────────────┴──────────────┘\n"
      ]
     },
     "metadata": {},
     "output_type": "display_data"
    },
    {
     "data": {
      "text/html": [
       "<pre style=\"white-space:pre;overflow-x:auto;line-height:normal;font-family:Menlo,'DejaVu Sans Mono',consolas,'Courier New',monospace\"><span style=\"font-weight: bold\"> Total params: </span><span style=\"color: #00af00; text-decoration-color: #00af00\">29,510</span> (115.27 KB)\n",
       "</pre>\n"
      ],
      "text/plain": [
       "\u001b[1m Total params: \u001b[0m\u001b[38;5;34m29,510\u001b[0m (115.27 KB)\n"
      ]
     },
     "metadata": {},
     "output_type": "display_data"
    },
    {
     "data": {
      "text/html": [
       "<pre style=\"white-space:pre;overflow-x:auto;line-height:normal;font-family:Menlo,'DejaVu Sans Mono',consolas,'Courier New',monospace\"><span style=\"font-weight: bold\"> Trainable params: </span><span style=\"color: #00af00; text-decoration-color: #00af00\">29,510</span> (115.27 KB)\n",
       "</pre>\n"
      ],
      "text/plain": [
       "\u001b[1m Trainable params: \u001b[0m\u001b[38;5;34m29,510\u001b[0m (115.27 KB)\n"
      ]
     },
     "metadata": {},
     "output_type": "display_data"
    },
    {
     "data": {
      "text/html": [
       "<pre style=\"white-space:pre;overflow-x:auto;line-height:normal;font-family:Menlo,'DejaVu Sans Mono',consolas,'Courier New',monospace\"><span style=\"font-weight: bold\"> Non-trainable params: </span><span style=\"color: #00af00; text-decoration-color: #00af00\">0</span> (0.00 B)\n",
       "</pre>\n"
      ],
      "text/plain": [
       "\u001b[1m Non-trainable params: \u001b[0m\u001b[38;5;34m0\u001b[0m (0.00 B)\n"
      ]
     },
     "metadata": {},
     "output_type": "display_data"
    }
   ],
   "source": [
    "## model training steps  or algorithm  \n",
    "from tensorflow.keras.models import Sequential \n",
    "from tensorflow.keras.layers import Dense, LSTM \n",
    "\n",
    "model = Sequential([LSTM(units=64,input_shape=(35,1),return_sequences=True),  # hidden layer 1\n",
    "                   LSTM(units=32), # hidden layer 2 \n",
    "                   Dense(units=6,activation='softmax')])  # output layer \n",
    "\n",
    "model.compile(loss=\"sparse_categorical_crossentropy\",optimizer='adam',metrics=['accuracy'])\n",
    "model.summary()\n",
    "# binary classification == > binary_crossentropy \n",
    "# multi class classification  ==> categorical_crossentropy , sparse_categorical_crossentropy   \n",
    "\n",
    "# y \n",
    "# labelencod ==>  sparse_categorical_crossentropy\n",
    "# onehotencode ==> categorical_crossentropy"
   ]
  },
  {
   "cell_type": "code",
   "execution_count": 91,
   "id": "ef8faf65-a149-4eb2-bb03-28a67f2dbbb2",
   "metadata": {},
   "outputs": [
    {
     "name": "stdout",
     "output_type": "stream",
     "text": [
      "Epoch 1/8\n",
      "\u001b[1m525/525\u001b[0m \u001b[32m━━━━━━━━━━━━━━━━━━━━\u001b[0m\u001b[37m\u001b[0m \u001b[1m34s\u001b[0m 53ms/step - accuracy: 0.3210 - loss: 1.6097 - val_accuracy: 0.3534 - val_loss: 1.5540\n",
      "Epoch 2/8\n",
      "\u001b[1m525/525\u001b[0m \u001b[32m━━━━━━━━━━━━━━━━━━━━\u001b[0m\u001b[37m\u001b[0m \u001b[1m37s\u001b[0m 46ms/step - accuracy: 0.3328 - loss: 1.5839 - val_accuracy: 0.3375 - val_loss: 1.5561\n",
      "Epoch 3/8\n",
      "\u001b[1m525/525\u001b[0m \u001b[32m━━━━━━━━━━━━━━━━━━━━\u001b[0m\u001b[37m\u001b[0m \u001b[1m21s\u001b[0m 40ms/step - accuracy: 0.3317 - loss: 1.5844 - val_accuracy: 0.3534 - val_loss: 1.5546\n",
      "Epoch 4/8\n",
      "\u001b[1m525/525\u001b[0m \u001b[32m━━━━━━━━━━━━━━━━━━━━\u001b[0m\u001b[37m\u001b[0m \u001b[1m20s\u001b[0m 37ms/step - accuracy: 0.3336 - loss: 1.5785 - val_accuracy: 0.3528 - val_loss: 1.5535\n",
      "Epoch 5/8\n",
      "\u001b[1m525/525\u001b[0m \u001b[32m━━━━━━━━━━━━━━━━━━━━\u001b[0m\u001b[37m\u001b[0m \u001b[1m21s\u001b[0m 37ms/step - accuracy: 0.3355 - loss: 1.5809 - val_accuracy: 0.3534 - val_loss: 1.5540\n",
      "Epoch 6/8\n",
      "\u001b[1m525/525\u001b[0m \u001b[32m━━━━━━━━━━━━━━━━━━━━\u001b[0m\u001b[37m\u001b[0m \u001b[1m23s\u001b[0m 43ms/step - accuracy: 0.3440 - loss: 1.5701 - val_accuracy: 0.3531 - val_loss: 1.5531\n",
      "Epoch 7/8\n",
      "\u001b[1m525/525\u001b[0m \u001b[32m━━━━━━━━━━━━━━━━━━━━\u001b[0m\u001b[37m\u001b[0m \u001b[1m39s\u001b[0m 39ms/step - accuracy: 0.3426 - loss: 1.5727 - val_accuracy: 0.3516 - val_loss: 1.5531\n",
      "Epoch 8/8\n",
      "\u001b[1m525/525\u001b[0m \u001b[32m━━━━━━━━━━━━━━━━━━━━\u001b[0m\u001b[37m\u001b[0m \u001b[1m46s\u001b[0m 48ms/step - accuracy: 0.3457 - loss: 1.5741 - val_accuracy: 0.3469 - val_loss: 1.5530\n"
     ]
    }
   ],
   "source": [
    "### train the algorithm  \n",
    "history = model.fit(x_train,y_train,epochs=8,validation_data=(x_test,y_test))"
   ]
  },
  {
   "cell_type": "code",
   "execution_count": null,
   "id": "fb5561fa-db94-4d6d-a063-7e4dfbe2e4d2",
   "metadata": {},
   "outputs": [],
   "source": [
    "# prediction \n",
    "# confusion matrix \n",
    "# model save "
   ]
  },
  {
   "cell_type": "code",
   "execution_count": 92,
   "id": "57dd127c-210e-4350-b057-35e1254643c9",
   "metadata": {},
   "outputs": [
    {
     "data": {
      "text/plain": [
       "<Axes: >"
      ]
     },
     "execution_count": 92,
     "metadata": {},
     "output_type": "execute_result"
    },
    {
     "data": {
      "image/png": "[encoded data removed]",
      "text/plain": [
       "<Figure size 640x480 with 1 Axes>"
      ]
     },
     "metadata": {},
     "output_type": "display_data"
    }
   ],
   "source": [
    "import pandas as pd \n",
    "pd.DataFrame(history.history).plot()"
   ]
  },
  {
   "cell_type": "code",
   "execution_count": 93,
   "id": "be8ecebf-839b-41ff-a439-c80c5493e18a",
   "metadata": {},
   "outputs": [
    {
     "name": "stdout",
     "output_type": "stream",
     "text": [
      "\u001b[1m100/100\u001b[0m \u001b[32m━━━━━━━━━━━━━━━━━━━━\u001b[0m\u001b[37m\u001b[0m \u001b[1m2s\u001b[0m 17ms/step\n"
     ]
    }
   ],
   "source": [
    "pred = model.predict(x_test)"
   ]
  },
  {
   "cell_type": "code",
   "execution_count": 98,
   "id": "61f2d7b7-e0ce-470b-ae8e-508e314a9662",
   "metadata": {},
   "outputs": [
    {
     "data": {
      "text/plain": [
       "array([[0.3393783 , 0.0454681 , 0.11137954, 0.10813805, 0.29778877,\n",
       "        0.09784728],\n",
       "       [0.3439758 , 0.03858981, 0.11470171, 0.12787813, 0.29372814,\n",
       "        0.08112647],\n",
       "       [0.2919557 , 0.03100449, 0.11937842, 0.14894296, 0.3541945 ,\n",
       "        0.0545239 ],\n",
       "       ...,\n",
       "       [0.3432817 , 0.03994577, 0.11400665, 0.12830366, 0.2866508 ,\n",
       "        0.0878114 ],\n",
       "       [0.3327913 , 0.03593075, 0.11846045, 0.1340383 , 0.3075454 ,\n",
       "        0.07123385],\n",
       "       [0.3394752 , 0.04533076, 0.11187831, 0.10991017, 0.29541963,\n",
       "        0.09798586]], dtype=float32)"
      ]
     },
     "execution_count": 98,
     "metadata": {},
     "output_type": "execute_result"
    }
   ],
   "source": [
    "pred"
   ]
  },
  {
   "cell_type": "code",
   "execution_count": 97,
   "id": "d0f667d5-7290-4d87-8ea7-d5eaa715457c",
   "metadata": {},
   "outputs": [
    {
     "data": {
      "text/plain": [
       "(3200, 35)"
      ]
     },
     "execution_count": 97,
     "metadata": {},
     "output_type": "execute_result"
    }
   ],
   "source": [
    "x_test.shape"
   ]
  },
  {
   "cell_type": "code",
   "execution_count": 100,
   "id": "38a44353-dac3-430b-8e46-9d8204130875",
   "metadata": {},
   "outputs": [],
   "source": [
    "predictions = np.argmax(pred,axis=1)"
   ]
  },
  {
   "cell_type": "code",
   "execution_count": 101,
   "id": "ea31b97a-6567-4819-b0e6-73a6996894af",
   "metadata": {},
   "outputs": [
    {
     "data": {
      "text/plain": [
       "array([0, 0, 0, ..., 3, 4, 5])"
      ]
     },
     "execution_count": 101,
     "metadata": {},
     "output_type": "execute_result"
    }
   ],
   "source": [
    "y_test"
   ]
  },
  {
   "cell_type": "code",
   "execution_count": 103,
   "id": "f1971f2e-1822-4e40-a1b0-783251282c8a",
   "metadata": {},
   "outputs": [
    {
     "data": {
      "text/html": [
       "<div>\n",
       "<style scoped>\n",
       "    .dataframe tbody tr th:only-of-type {\n",
       "        vertical-align: middle;\n",
       "    }\n",
       "\n",
       "    .dataframe tbody tr th {\n",
       "        vertical-align: top;\n",
       "    }\n",
       "\n",
       "    .dataframe thead th {\n",
       "        text-align: right;\n",
       "    }\n",
       "</style>\n",
       "<table border=\"1\" class=\"dataframe\">\n",
       "  <thead>\n",
       "    <tr style=\"text-align: right;\">\n",
       "      <th></th>\n",
       "      <th>actual</th>\n",
       "      <th>prediction</th>\n",
       "    </tr>\n",
       "  </thead>\n",
       "  <tbody>\n",
       "    <tr>\n",
       "      <th>0</th>\n",
       "      <td>0</td>\n",
       "      <td>0</td>\n",
       "    </tr>\n",
       "    <tr>\n",
       "      <th>1</th>\n",
       "      <td>0</td>\n",
       "      <td>0</td>\n",
       "    </tr>\n",
       "    <tr>\n",
       "      <th>2</th>\n",
       "      <td>0</td>\n",
       "      <td>4</td>\n",
       "    </tr>\n",
       "    <tr>\n",
       "      <th>3</th>\n",
       "      <td>0</td>\n",
       "      <td>0</td>\n",
       "    </tr>\n",
       "    <tr>\n",
       "      <th>4</th>\n",
       "      <td>0</td>\n",
       "      <td>0</td>\n",
       "    </tr>\n",
       "  </tbody>\n",
       "</table>\n",
       "</div>"
      ],
      "text/plain": [
       "   actual  prediction\n",
       "0       0           0\n",
       "1       0           0\n",
       "2       0           4\n",
       "3       0           0\n",
       "4       0           0"
      ]
     },
     "execution_count": 103,
     "metadata": {},
     "output_type": "execute_result"
    }
   ],
   "source": [
    "evaluation_df = pd.DataFrame({'actual':y_test,'prediction':predictions})\n",
    "evaluation_df.head()"
   ]
  },
  {
   "cell_type": "code",
   "execution_count": 108,
   "id": "3f77276f-35dc-4b76-928b-74704e819e48",
   "metadata": {},
   "outputs": [
    {
     "data": {
      "text/plain": [
       "{0: 'joy', 1: 'surprise', 2: 'fear', 3: 'anger', 4: 'sadness', 5: 'love'}"
      ]
     },
     "execution_count": 108,
     "metadata": {},
     "output_type": "execute_result"
    }
   ],
   "source": [
    "label = {0:'joy',1:'surprise',2:'fear',3:'anger',4:'sadness',5:'love'}\n",
    "label"
   ]
  },
  {
   "cell_type": "code",
   "execution_count": 110,
   "id": "0d6dc870-ac51-4286-bc69-ecc8f568c2b8",
   "metadata": {},
   "outputs": [],
   "source": [
    "evaluation_df['actual'] = evaluation_df['actual'].map(label)\n",
    "evaluation_df['prediction'] = evaluation_df['prediction'].map(label)\n"
   ]
  },
  {
   "cell_type": "code",
   "execution_count": null,
   "id": "05b4e579-889d-4626-b4d1-2b5727a22f63",
   "metadata": {},
   "outputs": [],
   "source": []
  },
  {
   "cell_type": "code",
   "execution_count": 111,
   "id": "89ee5291-3035-4a51-9f74-580281e452df",
   "metadata": {},
   "outputs": [
    {
     "data": {
      "text/html": [
       "<div>\n",
       "<style scoped>\n",
       "    .dataframe tbody tr th:only-of-type {\n",
       "        vertical-align: middle;\n",
       "    }\n",
       "\n",
       "    .dataframe tbody tr th {\n",
       "        vertical-align: top;\n",
       "    }\n",
       "\n",
       "    .dataframe thead th {\n",
       "        text-align: right;\n",
       "    }\n",
       "</style>\n",
       "<table border=\"1\" class=\"dataframe\">\n",
       "  <thead>\n",
       "    <tr style=\"text-align: right;\">\n",
       "      <th></th>\n",
       "      <th>actual</th>\n",
       "      <th>prediction</th>\n",
       "    </tr>\n",
       "  </thead>\n",
       "  <tbody>\n",
       "    <tr>\n",
       "      <th>0</th>\n",
       "      <td>joy</td>\n",
       "      <td>joy</td>\n",
       "    </tr>\n",
       "    <tr>\n",
       "      <th>1</th>\n",
       "      <td>joy</td>\n",
       "      <td>joy</td>\n",
       "    </tr>\n",
       "    <tr>\n",
       "      <th>2</th>\n",
       "      <td>joy</td>\n",
       "      <td>sadness</td>\n",
       "    </tr>\n",
       "    <tr>\n",
       "      <th>3</th>\n",
       "      <td>joy</td>\n",
       "      <td>joy</td>\n",
       "    </tr>\n",
       "    <tr>\n",
       "      <th>4</th>\n",
       "      <td>joy</td>\n",
       "      <td>joy</td>\n",
       "    </tr>\n",
       "    <tr>\n",
       "      <th>5</th>\n",
       "      <td>joy</td>\n",
       "      <td>joy</td>\n",
       "    </tr>\n",
       "    <tr>\n",
       "      <th>6</th>\n",
       "      <td>love</td>\n",
       "      <td>joy</td>\n",
       "    </tr>\n",
       "    <tr>\n",
       "      <th>7</th>\n",
       "      <td>sadness</td>\n",
       "      <td>joy</td>\n",
       "    </tr>\n",
       "    <tr>\n",
       "      <th>8</th>\n",
       "      <td>fear</td>\n",
       "      <td>joy</td>\n",
       "    </tr>\n",
       "    <tr>\n",
       "      <th>9</th>\n",
       "      <td>sadness</td>\n",
       "      <td>sadness</td>\n",
       "    </tr>\n",
       "    <tr>\n",
       "      <th>10</th>\n",
       "      <td>sadness</td>\n",
       "      <td>sadness</td>\n",
       "    </tr>\n",
       "    <tr>\n",
       "      <th>11</th>\n",
       "      <td>sadness</td>\n",
       "      <td>sadness</td>\n",
       "    </tr>\n",
       "    <tr>\n",
       "      <th>12</th>\n",
       "      <td>joy</td>\n",
       "      <td>sadness</td>\n",
       "    </tr>\n",
       "    <tr>\n",
       "      <th>13</th>\n",
       "      <td>fear</td>\n",
       "      <td>joy</td>\n",
       "    </tr>\n",
       "    <tr>\n",
       "      <th>14</th>\n",
       "      <td>joy</td>\n",
       "      <td>sadness</td>\n",
       "    </tr>\n",
       "    <tr>\n",
       "      <th>15</th>\n",
       "      <td>joy</td>\n",
       "      <td>sadness</td>\n",
       "    </tr>\n",
       "    <tr>\n",
       "      <th>16</th>\n",
       "      <td>joy</td>\n",
       "      <td>joy</td>\n",
       "    </tr>\n",
       "    <tr>\n",
       "      <th>17</th>\n",
       "      <td>anger</td>\n",
       "      <td>sadness</td>\n",
       "    </tr>\n",
       "    <tr>\n",
       "      <th>18</th>\n",
       "      <td>anger</td>\n",
       "      <td>joy</td>\n",
       "    </tr>\n",
       "    <tr>\n",
       "      <th>19</th>\n",
       "      <td>sadness</td>\n",
       "      <td>joy</td>\n",
       "    </tr>\n",
       "    <tr>\n",
       "      <th>20</th>\n",
       "      <td>joy</td>\n",
       "      <td>joy</td>\n",
       "    </tr>\n",
       "    <tr>\n",
       "      <th>21</th>\n",
       "      <td>fear</td>\n",
       "      <td>sadness</td>\n",
       "    </tr>\n",
       "    <tr>\n",
       "      <th>22</th>\n",
       "      <td>joy</td>\n",
       "      <td>sadness</td>\n",
       "    </tr>\n",
       "    <tr>\n",
       "      <th>23</th>\n",
       "      <td>sadness</td>\n",
       "      <td>sadness</td>\n",
       "    </tr>\n",
       "    <tr>\n",
       "      <th>24</th>\n",
       "      <td>sadness</td>\n",
       "      <td>joy</td>\n",
       "    </tr>\n",
       "    <tr>\n",
       "      <th>25</th>\n",
       "      <td>joy</td>\n",
       "      <td>sadness</td>\n",
       "    </tr>\n",
       "    <tr>\n",
       "      <th>26</th>\n",
       "      <td>joy</td>\n",
       "      <td>sadness</td>\n",
       "    </tr>\n",
       "    <tr>\n",
       "      <th>27</th>\n",
       "      <td>joy</td>\n",
       "      <td>joy</td>\n",
       "    </tr>\n",
       "    <tr>\n",
       "      <th>28</th>\n",
       "      <td>joy</td>\n",
       "      <td>sadness</td>\n",
       "    </tr>\n",
       "    <tr>\n",
       "      <th>29</th>\n",
       "      <td>sadness</td>\n",
       "      <td>sadness</td>\n",
       "    </tr>\n",
       "    <tr>\n",
       "      <th>30</th>\n",
       "      <td>fear</td>\n",
       "      <td>sadness</td>\n",
       "    </tr>\n",
       "    <tr>\n",
       "      <th>31</th>\n",
       "      <td>sadness</td>\n",
       "      <td>sadness</td>\n",
       "    </tr>\n",
       "    <tr>\n",
       "      <th>32</th>\n",
       "      <td>anger</td>\n",
       "      <td>joy</td>\n",
       "    </tr>\n",
       "    <tr>\n",
       "      <th>33</th>\n",
       "      <td>sadness</td>\n",
       "      <td>sadness</td>\n",
       "    </tr>\n",
       "    <tr>\n",
       "      <th>34</th>\n",
       "      <td>joy</td>\n",
       "      <td>joy</td>\n",
       "    </tr>\n",
       "    <tr>\n",
       "      <th>35</th>\n",
       "      <td>fear</td>\n",
       "      <td>joy</td>\n",
       "    </tr>\n",
       "    <tr>\n",
       "      <th>36</th>\n",
       "      <td>sadness</td>\n",
       "      <td>joy</td>\n",
       "    </tr>\n",
       "    <tr>\n",
       "      <th>37</th>\n",
       "      <td>fear</td>\n",
       "      <td>sadness</td>\n",
       "    </tr>\n",
       "    <tr>\n",
       "      <th>38</th>\n",
       "      <td>anger</td>\n",
       "      <td>joy</td>\n",
       "    </tr>\n",
       "    <tr>\n",
       "      <th>39</th>\n",
       "      <td>anger</td>\n",
       "      <td>joy</td>\n",
       "    </tr>\n",
       "  </tbody>\n",
       "</table>\n",
       "</div>"
      ],
      "text/plain": [
       "     actual prediction\n",
       "0       joy        joy\n",
       "1       joy        joy\n",
       "2       joy    sadness\n",
       "3       joy        joy\n",
       "4       joy        joy\n",
       "5       joy        joy\n",
       "6      love        joy\n",
       "7   sadness        joy\n",
       "8      fear        joy\n",
       "9   sadness    sadness\n",
       "10  sadness    sadness\n",
       "11  sadness    sadness\n",
       "12      joy    sadness\n",
       "13     fear        joy\n",
       "14      joy    sadness\n",
       "15      joy    sadness\n",
       "16      joy        joy\n",
       "17    anger    sadness\n",
       "18    anger        joy\n",
       "19  sadness        joy\n",
       "20      joy        joy\n",
       "21     fear    sadness\n",
       "22      joy    sadness\n",
       "23  sadness    sadness\n",
       "24  sadness        joy\n",
       "25      joy    sadness\n",
       "26      joy    sadness\n",
       "27      joy        joy\n",
       "28      joy    sadness\n",
       "29  sadness    sadness\n",
       "30     fear    sadness\n",
       "31  sadness    sadness\n",
       "32    anger        joy\n",
       "33  sadness    sadness\n",
       "34      joy        joy\n",
       "35     fear        joy\n",
       "36  sadness        joy\n",
       "37     fear    sadness\n",
       "38    anger        joy\n",
       "39    anger        joy"
      ]
     },
     "execution_count": 111,
     "metadata": {},
     "output_type": "execute_result"
    }
   ],
   "source": [
    "evaluation_df.head(40)"
   ]
  },
  {
   "cell_type": "code",
   "execution_count": 112,
   "id": "bfafbe9e-9b3f-4021-ac21-9d9a5ace8a69",
   "metadata": {},
   "outputs": [
    {
     "name": "stderr",
     "output_type": "stream",
     "text": [
      "WARNING:absl:You are saving your model as an HDF5 file via `model.save()` or `keras.saving.save_model(model)`. This file format is considered legacy. We recommend using instead the native Keras format, e.g. `model.save('my_model.keras')` or `keras.saving.save_model(model, 'my_model.keras')`. \n"
     ]
    }
   ],
   "source": [
    "os.makedirs('prediction',exist_ok=True)\n",
    "evaluation_df.to_csv('./prediction/prediction.csv',index=False)  \n",
    "\n",
    "os.makedirs('models',exist_ok=True) \n",
    "model.save('./models/lstm_model.h5')\n",
    " # saved "
   ]
  },
  {
   "cell_type": "code",
   "execution_count": null,
   "id": "d3a4c0cf-0719-4d47-8f59-7dcff113d5f3",
   "metadata": {},
   "outputs": [],
   "source": []
  },
  {
   "cell_type": "code",
   "execution_count": null,
   "id": "37d36d68-b45c-4202-b999-c1d9f0a650ce",
   "metadata": {},
   "outputs": [],
   "source": []
  },
  {
   "cell_type": "code",
   "execution_count": null,
   "id": "29e5595a-1996-4c80-9422-d556f6e2c2d5",
   "metadata": {},
   "outputs": [],
   "source": []
  },
  {
   "cell_type": "code",
   "execution_count": null,
   "id": "14244b03-a1eb-446d-aa93-5bd9b8896c43",
   "metadata": {},
   "outputs": [],
   "source": []
  },
  {
   "cell_type": "code",
   "execution_count": null,
   "id": "6385dfec-4f56-46c0-9536-f9b4a3cda002",
   "metadata": {},
   "outputs": [],
   "source": []
  },
  {
   "cell_type": "code",
   "execution_count": null,
   "id": "b90cb92d-fd45-47a9-b0c4-c90eb42e37f1",
   "metadata": {},
   "outputs": [],
   "source": []
  },
  {
   "cell_type": "code",
   "execution_count": null,
   "id": "7f10c6ab-2ff7-464a-93b1-b2304a5e1235",
   "metadata": {},
   "outputs": [],
   "source": []
  },
  {
   "cell_type": "code",
   "execution_count": null,
   "id": "a119ac56-7b8d-416a-9e78-c9adf2b36a98",
   "metadata": {},
   "outputs": [],
   "source": []
  }
 ],
 "metadata": {
  "kernelspec": {
   "display_name": "Python 3 (ipykernel)",
   "language": "python",
   "name": "python3"
  },
  "language_info": {
   "codemirror_mode": {
    "name": "ipython",
    "version": 3
   },
   "file_extension": ".py",
   "mimetype": "text/x-python",
   "name": "python",
   "nbconvert_exporter": "python",
   "pygments_lexer": "ipython3",
   "version": "3.12.4"
  }
 },
 "nbformat": 4,
 "nbformat_minor": 5
}
